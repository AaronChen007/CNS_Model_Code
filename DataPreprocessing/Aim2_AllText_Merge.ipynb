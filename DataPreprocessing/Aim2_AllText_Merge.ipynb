{
 "cells": [
  {
   "cell_type": "code",
   "execution_count": 1,
   "id": "d6a97916",
   "metadata": {},
   "outputs": [],
   "source": [
    "import os\n",
    "import re\n",
    "import numpy as np\n",
    "import pandas as pd\n",
    "import time\n",
    "import matplotlib.pyplot as plt\n",
    "import random\n",
    "import tensorflow as tf\n",
    "from tensorflow.keras.preprocessing.text import Tokenizer\n",
    "from tensorflow.keras.preprocessing.sequence import pad_sequences\n",
    "from sklearn.preprocessing import StandardScaler, LabelBinarizer\n",
    "from transformers import AutoTokenizer, TFBertModel, BertTokenizer\n",
    "from sklearn.metrics import roc_auc_score, roc_curve, f1_score, confusion_matrix , accuracy_score , classification_report\n",
    "from sklearn.model_selection import train_test_split\n",
    "import seaborn as sns\n",
    "from sklearn.utils import shuffle\n",
    "import platform\n",
    "from tensorflow.keras.models import Sequential, Model\n",
    "from tensorflow.keras.layers import Dense, Embedding, Conv1D, GlobalMaxPooling1D, Input, MaxPooling1D, Dropout, Flatten, LSTM, SpatialDropout1D\n",
    "from tensorflow.keras.callbacks import EarlyStopping, ModelCheckpoint\n",
    "from sklearn.utils.class_weight import compute_class_weight\n",
    "from tensorflow.keras.metrics import Precision, Recall\n",
    "from tensorflow.keras import backend as K\n",
    "from keras import regularizers\n",
    "seed=2023\n",
    "import pickle"
   ]
  },
  {
   "cell_type": "code",
   "execution_count": 2,
   "id": "7dda077b",
   "metadata": {},
   "outputs": [],
   "source": [
    "pd.set_option('display.max_columns',100)"
   ]
  },
  {
   "cell_type": "code",
   "execution_count": 51,
   "id": "b8258595",
   "metadata": {},
   "outputs": [],
   "source": [
    "plt.rcParams.update({'font.family': 'times new roman', 'font.size': 25})"
   ]
  },
  {
   "cell_type": "code",
   "execution_count": 80,
   "id": "38254f91",
   "metadata": {},
   "outputs": [],
   "source": [
    "def count_freq(col, counts):\n",
    "\n",
    "    df3 = df2.copy()\n",
    "    col_name = col\n",
    "\n",
    "    col_nameNew = col_name+\"_length\"\n",
    "    df3[col_nameNew] = counts\n",
    "    text_counts = df3[col_nameNew].value_counts().sort_index()\n",
    "    text_counts = text_counts[text_counts.index!=0]\n",
    "\n",
    "    text_freq = text_counts / text_counts.sum()\n",
    "    cumulative_freq = np.cumsum(text_freq)\n",
    "\n",
    "    fig, ax = plt.subplots(figsize=(7.5, 4.5))\n",
    "\n",
    "    ax.plot(text_counts.index, cumulative_freq, 'b--', label='Cumulative Frequency')\n",
    "\n",
    "    x0 = np.min(text_counts[~(cumulative_freq < 0.99)].index)\n",
    "    y0 = cumulative_freq[x0]\n",
    "#     ax.annotate(f'({x0}, {0.99})', xy=(x0, y0), xycoords='data', xytext=(30, -30), textcoords='offset points',\n",
    "#                 fontsize=12, arrowprops=dict(arrowstyle='->', connectionstyle='arc3,rad=-.3'))\n",
    "\n",
    "    x1 = np.min(text_counts[~(cumulative_freq < 0.95)].index)\n",
    "    y1 = cumulative_freq[x1]\n",
    "    ax.annotate(f'({x1}, {0.95})', xy=(x1, y1), xycoords='data', xytext=(30, -30), textcoords='offset points',\n",
    "                fontsize=20, arrowprops=dict(arrowstyle='->', connectionstyle='arc3,rad=-0.3'))\n",
    "    \n",
    "    x2 = np.min(text_counts[~(cumulative_freq < 0.9)].index)\n",
    "    y2 = cumulative_freq[x2]\n",
    "#     ax.annotate(f'({x2}, {0.9})', xy=(x2, y2), xycoords='data', xytext=(30, -30), textcoords='offset points',\n",
    "#                 fontsize=12, arrowprops=dict(arrowstyle='->', connectionstyle='arc3,rad=-0.3'))\n",
    "\n",
    "#     ax.plot([x0, x0], [y0, 0], 'k--', lw=1)\n",
    "#     ax.plot([0, x0], [y0, y0], 'k--', lw=1)\n",
    "    \n",
    "    ax.plot([x1, x1], [y1, 0], 'k--', lw=1)\n",
    "    ax.plot([0, x1], [y1, y1], 'k--', lw=1)\n",
    "    \n",
    "#     ax.plot([x2, x2], [y2, 0], 'k--', lw=1)\n",
    "#     ax.plot([0, x2], [y2, y2], 'k--', lw=1)\n",
    "\n",
    "    ax.set_xlabel('Token Count', fontsize=23)\n",
    "    ax.set_ylabel('Value', fontsize=23)\n",
    "\n",
    "#     ax.tick_params(axis='both', labelsize=12)\n",
    "    ax.tick_params(axis='x', labelsize=23)\n",
    "    ax.tick_params(axis='y', labelsize=23)\n",
    "\n",
    "    ax.grid(True, linestyle='--', linewidth=0.5, color='gray')\n",
    "\n",
    "#     ax.set_title('The cumulative frequency of the number of tokens in '+ col_name , fontsize=14, fontweight='bold')\n",
    "#     ax.set_title(col_name , fontsize=14, fontweight='bold')\n",
    "    if col_name==\"icd_title\":\n",
    "        ax.set_title(\"ICD\" , fontsize=23)\n",
    "    else:\n",
    "        ax.set_title(col_name , fontsize=23)\n",
    "\n",
    "    ax.legend(loc='lower right', fontsize=20)\n",
    "\n",
    "    ax.set_xlim(0, )  # max(text_counts.index)\n",
    "    ax.set_ylim(0, )  # 1\n",
    "\n",
    "    plt.tight_layout()\n",
    "\n",
    "    path = os.path.join(\"E:/CNSI_project/demo_and_data_5.0/figure_in_paper/aim2/tokens\", f\"{col}.tif\")\n",
    "    plt.savefig(path, dpi=300, bbox_inches='tight')\n",
    "\n",
    "    # plt.savefig('text_length_cumulative_freq.png', dpi=300)\n",
    "    print(f\"最长的tokens为{max(text_counts.index)}个词汇或单词。\")\n",
    "\n",
    "    plt.show()\n",
    "    return x0,x1,x2"
   ]
  },
  {
   "cell_type": "code",
   "execution_count": 4,
   "id": "31a5e91c",
   "metadata": {},
   "outputs": [],
   "source": [
    "# If words and punctuation marks are joined together, put a space between them.\n",
    "def add_space_around_punctuation(texts):\n",
    "    texts = [text.lower() for text in texts]\n",
    "    \n",
    "    # Create a character set that contains all the specified punctuation marks\n",
    "    punctuation_chars = r'!\"#$%&()*+,-./:;<=>?@[\\]^_`{|}~'\n",
    "    \n",
    "    # Compile a regular expression pattern that matches places where spaces need to be added\n",
    "    # Handle cases where there is no space before a punctuation mark\n",
    "    pattern_before = re.compile(r'(?<!\\s)([' + re.escape(punctuation_chars) + r'])')\n",
    "    # Handles punctuation without a space after it, but does not match punctuation at the end of a string\n",
    "    pattern_after = re.compile(r'([' + re.escape(punctuation_chars) + r'])(?!\\s|$)')\n",
    "    \n",
    "    # Use regular expression patterns to add spaces\n",
    "    texts_with_spaces = [pattern_before.sub(r' \\1', text) for text in texts]\n",
    "    texts_with_spaces = [pattern_after.sub(r'\\1 ', text) for text in texts_with_spaces]\n",
    "    \n",
    "    # Dispose of redundant spaces and ensure that there is only one space before and after punctuation marks\n",
    "    texts_with_single_spaces = [re.sub(r'\\s+', ' ', text) for text in texts_with_spaces]\n",
    "\n",
    "    return texts_with_single_spaces"
   ]
  },
  {
   "cell_type": "code",
   "execution_count": 5,
   "id": "bb365004",
   "metadata": {},
   "outputs": [
    {
     "name": "stdout",
     "output_type": "stream",
     "text": [
      "['hello , world !', 'good morning , dr . john .', \"isn't this fun ? yes !\", 'fever / ms changes , con']\n"
     ]
    }
   ],
   "source": [
    "# List of example texts\n",
    "texts = [\"Hello,world!\", \"Good morning, Dr. John.\", \"Isn't this fun?Yes!\",'fever/ms changes, con']\n",
    "\n",
    "# Call the function and print the result\n",
    "texts_with_spaces = add_space_around_punctuation(texts)\n",
    "print(texts_with_spaces)"
   ]
  },
  {
   "cell_type": "code",
   "execution_count": 6,
   "id": "cee959c8",
   "metadata": {
    "scrolled": true
   },
   "outputs": [
    {
     "data": {
      "text/html": [
       "<div>\n",
       "<style scoped>\n",
       "    .dataframe tbody tr th:only-of-type {\n",
       "        vertical-align: middle;\n",
       "    }\n",
       "\n",
       "    .dataframe tbody tr th {\n",
       "        vertical-align: top;\n",
       "    }\n",
       "\n",
       "    .dataframe thead th {\n",
       "        text-align: right;\n",
       "    }\n",
       "</style>\n",
       "<table border=\"1\" class=\"dataframe\">\n",
       "  <thead>\n",
       "    <tr style=\"text-align: right;\">\n",
       "      <th></th>\n",
       "      <th>subject_id</th>\n",
       "      <th>hadm_id</th>\n",
       "      <th>chartdate</th>\n",
       "      <th>Chemistry~Blood~Albumin~50862~g/dL</th>\n",
       "      <th>Chemistry~Blood~Alkaline Phosphatase~50863~IU/L</th>\n",
       "      <th>Chemistry~Blood~Calcium, Total~50893~mg/dL</th>\n",
       "      <th>Chemistry~Blood~Chloride~50902~mEq/L</th>\n",
       "      <th>Chemistry~Blood~Lactate Dehydrogenase (LD)~50954~IU/L</th>\n",
       "      <th>Chemistry~Blood~Phosphate~50970~mg/dL</th>\n",
       "      <th>Chemistry~Blood~Urea Nitrogen~51006~mg/dL</th>\n",
       "      <th>Hematology~Blood~Eosinophils~51200~%</th>\n",
       "      <th>Hematology~Blood~INR(PT)~51237~</th>\n",
       "      <th>Hematology~Blood~MCV~51250~fL</th>\n",
       "      <th>Hematology~Blood~Platelet Count~51265~K/uL</th>\n",
       "      <th>Hematology~Blood~PT~51274~sec</th>\n",
       "      <th>Hematology~Blood~RDW~51277~%</th>\n",
       "      <th>Hematology~Blood~Red Blood Cells~51279~m/uL</th>\n",
       "      <th>Hematology~Blood~White Blood Cells~51301~K/uL</th>\n",
       "      <th>Chemistry~Cerebrospinal Fluid~Lactate Dehydrogenase, CSF~51795~IU/L</th>\n",
       "      <th>Chemistry~Cerebrospinal Fluid~Total Protein, CSF~51802~mg/dL</th>\n",
       "      <th>Hematology~Cerebrospinal Fluid~Eosinophils~52256~%</th>\n",
       "      <th>Hematology~Cerebrospinal Fluid~Polys~52281~%</th>\n",
       "      <th>Hematology~Cerebrospinal Fluid~RBC, CSF~52285~#/uL</th>\n",
       "      <th>age</th>\n",
       "      <th>resprate</th>\n",
       "      <th>acuity</th>\n",
       "      <th>Chief Complaint</th>\n",
       "      <th>icd_title</th>\n",
       "      <th>History of Present Illness</th>\n",
       "      <th>Past Medical History</th>\n",
       "      <th>Allergies</th>\n",
       "      <th>Family History</th>\n",
       "      <th>hospital_expire_flag</th>\n",
       "    </tr>\n",
       "  </thead>\n",
       "  <tbody>\n",
       "    <tr>\n",
       "      <th>0</th>\n",
       "      <td>10001217</td>\n",
       "      <td>24597018.0</td>\n",
       "      <td>2157-11-19</td>\n",
       "      <td>NaN</td>\n",
       "      <td>NaN</td>\n",
       "      <td>NaN</td>\n",
       "      <td>NaN</td>\n",
       "      <td>NaN</td>\n",
       "      <td>NaN</td>\n",
       "      <td>NaN</td>\n",
       "      <td>NaN</td>\n",
       "      <td>NaN</td>\n",
       "      <td>NaN</td>\n",
       "      <td>NaN</td>\n",
       "      <td>NaN</td>\n",
       "      <td>NaN</td>\n",
       "      <td>NaN</td>\n",
       "      <td>NaN</td>\n",
       "      <td>NaN</td>\n",
       "      <td>42.0</td>\n",
       "      <td>NaN</td>\n",
       "      <td>0.0</td>\n",
       "      <td>5.0</td>\n",
       "      <td>55</td>\n",
       "      <td>16.0</td>\n",
       "      <td>3.0</td>\n",
       "      <td>LEFT HAND PAINS, Left hand and face numbness, ...</td>\n",
       "      <td>Cerebral edema; Compression of brain; Family h...</td>\n",
       "      <td>Mrs. ___ is a ___ y/o F from ___ with history ...</td>\n",
       "      <td>Multiple sclerosis</td>\n",
       "      <td>Penicillins</td>\n",
       "      <td>Mother with pancreatic cancer, brother-lung ca...</td>\n",
       "      <td>0</td>\n",
       "    </tr>\n",
       "    <tr>\n",
       "      <th>1</th>\n",
       "      <td>10003019</td>\n",
       "      <td>21616816.0</td>\n",
       "      <td>2174-09-18</td>\n",
       "      <td>2.6</td>\n",
       "      <td>NaN</td>\n",
       "      <td>10.4</td>\n",
       "      <td>102.0</td>\n",
       "      <td>NaN</td>\n",
       "      <td>2.8</td>\n",
       "      <td>32.0</td>\n",
       "      <td>NaN</td>\n",
       "      <td>NaN</td>\n",
       "      <td>78.0</td>\n",
       "      <td>557.0</td>\n",
       "      <td>NaN</td>\n",
       "      <td>18.3</td>\n",
       "      <td>4.04</td>\n",
       "      <td>16.6</td>\n",
       "      <td>NaN</td>\n",
       "      <td>75.0</td>\n",
       "      <td>NaN</td>\n",
       "      <td>10.0</td>\n",
       "      <td>430.0</td>\n",
       "      <td>72</td>\n",
       "      <td>16.0</td>\n",
       "      <td>2.0</td>\n",
       "      <td>FEVER/MS CHANGES, confusion, rehab placement</td>\n",
       "      <td>Acute kidney failure, unspecified; Asthma, uns...</td>\n",
       "      <td>___ male w/ PMH of sarcoidosis, sleep apnea, n...</td>\n",
       "      <td>1. Sarcoidosis, dx skin bx:intestinal &amp; pulmon...</td>\n",
       "      <td>Oxycodone / Ragweed</td>\n",
       "      <td>Mother:___, cardiac disease. Father:diverticul...</td>\n",
       "      <td>0</td>\n",
       "    </tr>\n",
       "    <tr>\n",
       "      <th>2</th>\n",
       "      <td>10005808</td>\n",
       "      <td>26543907.0</td>\n",
       "      <td>2119-01-02</td>\n",
       "      <td>NaN</td>\n",
       "      <td>48.0</td>\n",
       "      <td>9.3</td>\n",
       "      <td>105.0</td>\n",
       "      <td>NaN</td>\n",
       "      <td>2.5</td>\n",
       "      <td>18.0</td>\n",
       "      <td>3.2</td>\n",
       "      <td>NaN</td>\n",
       "      <td>87.0</td>\n",
       "      <td>256.0</td>\n",
       "      <td>NaN</td>\n",
       "      <td>13.9</td>\n",
       "      <td>5.03</td>\n",
       "      <td>9.8</td>\n",
       "      <td>NaN</td>\n",
       "      <td>72.0</td>\n",
       "      <td>NaN</td>\n",
       "      <td>0.0</td>\n",
       "      <td>510.0</td>\n",
       "      <td>53</td>\n",
       "      <td>NaN</td>\n",
       "      <td>NaN</td>\n",
       "      <td>limb weakness and tingling</td>\n",
       "      <td>Acute infective polyneuritis</td>\n",
       "      <td>Mr. ___ is a ___ year old right handed gentlem...</td>\n",
       "      <td>Hiatal hernia in ___ Occasional heartburn</td>\n",
       "      <td>No Known Allergies / Adverse Drug Reactions</td>\n",
       "      <td>He has no family history of autoimmune disease...</td>\n",
       "      <td>0</td>\n",
       "    </tr>\n",
       "    <tr>\n",
       "      <th>3</th>\n",
       "      <td>10006269</td>\n",
       "      <td>27357430.0</td>\n",
       "      <td>2124-06-26</td>\n",
       "      <td>4.9</td>\n",
       "      <td>80.0</td>\n",
       "      <td>NaN</td>\n",
       "      <td>95.0</td>\n",
       "      <td>NaN</td>\n",
       "      <td>NaN</td>\n",
       "      <td>15.0</td>\n",
       "      <td>0.0</td>\n",
       "      <td>NaN</td>\n",
       "      <td>66.0</td>\n",
       "      <td>225.0</td>\n",
       "      <td>NaN</td>\n",
       "      <td>20.1</td>\n",
       "      <td>4.66</td>\n",
       "      <td>10.0</td>\n",
       "      <td>NaN</td>\n",
       "      <td>100.0</td>\n",
       "      <td>NaN</td>\n",
       "      <td>1.0</td>\n",
       "      <td>2.0</td>\n",
       "      <td>51</td>\n",
       "      <td>19.0</td>\n",
       "      <td>3.0</td>\n",
       "      <td>Fever, Headache</td>\n",
       "      <td>Duodenitis without bleeding; Essential (primar...</td>\n",
       "      <td>NaN</td>\n",
       "      <td>NaN</td>\n",
       "      <td>No Known Allergies / Adverse Drug Reactions</td>\n",
       "      <td>NaN</td>\n",
       "      <td>0</td>\n",
       "    </tr>\n",
       "    <tr>\n",
       "      <th>4</th>\n",
       "      <td>10014078</td>\n",
       "      <td>25809882.0</td>\n",
       "      <td>2166-08-22</td>\n",
       "      <td>NaN</td>\n",
       "      <td>NaN</td>\n",
       "      <td>8.1</td>\n",
       "      <td>117.0</td>\n",
       "      <td>NaN</td>\n",
       "      <td>2.8</td>\n",
       "      <td>7.0</td>\n",
       "      <td>NaN</td>\n",
       "      <td>NaN</td>\n",
       "      <td>76.0</td>\n",
       "      <td>201.0</td>\n",
       "      <td>NaN</td>\n",
       "      <td>13.7</td>\n",
       "      <td>4.32</td>\n",
       "      <td>6.9</td>\n",
       "      <td>NaN</td>\n",
       "      <td>75.0</td>\n",
       "      <td>NaN</td>\n",
       "      <td>27.0</td>\n",
       "      <td>1.0</td>\n",
       "      <td>60</td>\n",
       "      <td>NaN</td>\n",
       "      <td>NaN</td>\n",
       "      <td>seizure</td>\n",
       "      <td>Benign neoplasm of cerebral meninges; Diabetes...</td>\n",
       "      <td>The pt is a ___ year-old woman who presents as...</td>\n",
       "      <td>hx of atypical meningioma - grade 2 - resected...</td>\n",
       "      <td>No Known Allergies / Adverse Drug Reactions</td>\n",
       "      <td>noncontributory</td>\n",
       "      <td>0</td>\n",
       "    </tr>\n",
       "    <tr>\n",
       "      <th>...</th>\n",
       "      <td>...</td>\n",
       "      <td>...</td>\n",
       "      <td>...</td>\n",
       "      <td>...</td>\n",
       "      <td>...</td>\n",
       "      <td>...</td>\n",
       "      <td>...</td>\n",
       "      <td>...</td>\n",
       "      <td>...</td>\n",
       "      <td>...</td>\n",
       "      <td>...</td>\n",
       "      <td>...</td>\n",
       "      <td>...</td>\n",
       "      <td>...</td>\n",
       "      <td>...</td>\n",
       "      <td>...</td>\n",
       "      <td>...</td>\n",
       "      <td>...</td>\n",
       "      <td>...</td>\n",
       "      <td>...</td>\n",
       "      <td>...</td>\n",
       "      <td>...</td>\n",
       "      <td>...</td>\n",
       "      <td>...</td>\n",
       "      <td>...</td>\n",
       "      <td>...</td>\n",
       "      <td>...</td>\n",
       "      <td>...</td>\n",
       "      <td>...</td>\n",
       "      <td>...</td>\n",
       "      <td>...</td>\n",
       "      <td>...</td>\n",
       "      <td>...</td>\n",
       "    </tr>\n",
       "    <tr>\n",
       "      <th>5790</th>\n",
       "      <td>19994772</td>\n",
       "      <td>29219051.0</td>\n",
       "      <td>2181-04-18</td>\n",
       "      <td>NaN</td>\n",
       "      <td>NaN</td>\n",
       "      <td>NaN</td>\n",
       "      <td>103.0</td>\n",
       "      <td>150.0</td>\n",
       "      <td>NaN</td>\n",
       "      <td>9.0</td>\n",
       "      <td>0.3</td>\n",
       "      <td>NaN</td>\n",
       "      <td>92.0</td>\n",
       "      <td>325.0</td>\n",
       "      <td>NaN</td>\n",
       "      <td>12.7</td>\n",
       "      <td>4.02</td>\n",
       "      <td>10.7</td>\n",
       "      <td>NaN</td>\n",
       "      <td>244.0</td>\n",
       "      <td>NaN</td>\n",
       "      <td>88.0</td>\n",
       "      <td>0.0</td>\n",
       "      <td>55</td>\n",
       "      <td>20.0</td>\n",
       "      <td>2.0</td>\n",
       "      <td>Aletered mental status and fever</td>\n",
       "      <td>Abnormal involuntary movements; Candidiasis of...</td>\n",
       "      <td>___ is a ___ woman with</td>\n",
       "      <td>PAST MEDICAL HISTORY:Recurrent glioblastoma in...</td>\n",
       "      <td>Keflex</td>\n",
       "      <td>Non-contributory.</td>\n",
       "      <td>0</td>\n",
       "    </tr>\n",
       "    <tr>\n",
       "      <th>5791</th>\n",
       "      <td>19994772</td>\n",
       "      <td>29606061.0</td>\n",
       "      <td>2180-12-18</td>\n",
       "      <td>NaN</td>\n",
       "      <td>NaN</td>\n",
       "      <td>9.7</td>\n",
       "      <td>103.0</td>\n",
       "      <td>NaN</td>\n",
       "      <td>3.3</td>\n",
       "      <td>16.0</td>\n",
       "      <td>0.2</td>\n",
       "      <td>NaN</td>\n",
       "      <td>93.0</td>\n",
       "      <td>257.0</td>\n",
       "      <td>NaN</td>\n",
       "      <td>12.4</td>\n",
       "      <td>3.46</td>\n",
       "      <td>7.2</td>\n",
       "      <td>NaN</td>\n",
       "      <td>295.0</td>\n",
       "      <td>NaN</td>\n",
       "      <td>100.0</td>\n",
       "      <td>5100.0</td>\n",
       "      <td>54</td>\n",
       "      <td>NaN</td>\n",
       "      <td>NaN</td>\n",
       "      <td>Recurrent glioblastoma.</td>\n",
       "      <td>Cerebral aneurysm, nonruptured; Compression of...</td>\n",
       "      <td>Ms. ___ is a ___ y/o F s/p resection of gliobl...</td>\n",
       "      <td>Hyperlipidemia</td>\n",
       "      <td>___</td>\n",
       "      <td>non-contributory</td>\n",
       "      <td>0</td>\n",
       "    </tr>\n",
       "    <tr>\n",
       "      <th>5792</th>\n",
       "      <td>19995080</td>\n",
       "      <td>23057109.0</td>\n",
       "      <td>2147-07-13</td>\n",
       "      <td>2.3</td>\n",
       "      <td>961.0</td>\n",
       "      <td>7.5</td>\n",
       "      <td>105.0</td>\n",
       "      <td>NaN</td>\n",
       "      <td>2.3</td>\n",
       "      <td>17.0</td>\n",
       "      <td>0.3</td>\n",
       "      <td>1.1</td>\n",
       "      <td>94.0</td>\n",
       "      <td>377.0</td>\n",
       "      <td>12.7</td>\n",
       "      <td>15.7</td>\n",
       "      <td>3.52</td>\n",
       "      <td>3.8</td>\n",
       "      <td>NaN</td>\n",
       "      <td>44.0</td>\n",
       "      <td>NaN</td>\n",
       "      <td>8.0</td>\n",
       "      <td>1.0</td>\n",
       "      <td>59</td>\n",
       "      <td>NaN</td>\n",
       "      <td>NaN</td>\n",
       "      <td>Confusion- Altered Mental Status- transfer fro...</td>\n",
       "      <td>Calculus of gallbladder and bile duct without ...</td>\n",
       "      <td>___ M with AIDS and med non-compliance (CD4 20...</td>\n",
       "      <td>- AIDS off ART prescribed for Truvada T qd, Ka...</td>\n",
       "      <td>Penicillins</td>\n",
       "      <td>Father died of AD at age ___. Mother died of D...</td>\n",
       "      <td>0</td>\n",
       "    </tr>\n",
       "    <tr>\n",
       "      <th>5793</th>\n",
       "      <td>19999784</td>\n",
       "      <td>24935234.0</td>\n",
       "      <td>2119-07-07</td>\n",
       "      <td>4.3</td>\n",
       "      <td>NaN</td>\n",
       "      <td>NaN</td>\n",
       "      <td>NaN</td>\n",
       "      <td>102.0</td>\n",
       "      <td>NaN</td>\n",
       "      <td>NaN</td>\n",
       "      <td>0.6</td>\n",
       "      <td>NaN</td>\n",
       "      <td>84.0</td>\n",
       "      <td>275.0</td>\n",
       "      <td>NaN</td>\n",
       "      <td>14.6</td>\n",
       "      <td>4.65</td>\n",
       "      <td>5.0</td>\n",
       "      <td>23.0</td>\n",
       "      <td>146.0</td>\n",
       "      <td>NaN</td>\n",
       "      <td>1.0</td>\n",
       "      <td>4.0</td>\n",
       "      <td>57</td>\n",
       "      <td>16.0</td>\n",
       "      <td>2.0</td>\n",
       "      <td>Abnormal MRI, weakness</td>\n",
       "      <td>Abnormal cytological findings in cerebrospinal...</td>\n",
       "      <td>Mr. ___ is a ___ without significant medical h...</td>\n",
       "      <td>PAST ONCOLOGIC HISTORY:___ is a ___ right-hand...</td>\n",
       "      <td>No Known Allergies / Adverse Drug Reactions</td>\n",
       "      <td>Father had prostate cancer.  Denies otherwise ...</td>\n",
       "      <td>0</td>\n",
       "    </tr>\n",
       "    <tr>\n",
       "      <th>5794</th>\n",
       "      <td>19999784</td>\n",
       "      <td>26194817.0</td>\n",
       "      <td>2119-06-22</td>\n",
       "      <td>NaN</td>\n",
       "      <td>NaN</td>\n",
       "      <td>NaN</td>\n",
       "      <td>NaN</td>\n",
       "      <td>NaN</td>\n",
       "      <td>NaN</td>\n",
       "      <td>NaN</td>\n",
       "      <td>NaN</td>\n",
       "      <td>NaN</td>\n",
       "      <td>NaN</td>\n",
       "      <td>NaN</td>\n",
       "      <td>NaN</td>\n",
       "      <td>NaN</td>\n",
       "      <td>NaN</td>\n",
       "      <td>NaN</td>\n",
       "      <td>19.0</td>\n",
       "      <td>114.0</td>\n",
       "      <td>1.0</td>\n",
       "      <td>2.0</td>\n",
       "      <td>1.0</td>\n",
       "      <td>57</td>\n",
       "      <td>18.0</td>\n",
       "      <td>3.0</td>\n",
       "      <td>L Leg weakness, LLE weakness, dysphagia</td>\n",
       "      <td>Anemia, unspecified; Body mass index (BMI) 23....</td>\n",
       "      <td>___ is a ___ year-old right-handed male withou...</td>\n",
       "      <td>Tobacco use disorder</td>\n",
       "      <td>No Known Allergies / Adverse Drug Reactions</td>\n",
       "      <td>- Great nephew ___ years) with recently diagno...</td>\n",
       "      <td>0</td>\n",
       "    </tr>\n",
       "  </tbody>\n",
       "</table>\n",
       "<p>5795 rows × 33 columns</p>\n",
       "</div>"
      ],
      "text/plain": [
       "      subject_id     hadm_id   chartdate  Chemistry~Blood~Albumin~50862~g/dL  \\\n",
       "0       10001217  24597018.0  2157-11-19                                 NaN   \n",
       "1       10003019  21616816.0  2174-09-18                                 2.6   \n",
       "2       10005808  26543907.0  2119-01-02                                 NaN   \n",
       "3       10006269  27357430.0  2124-06-26                                 4.9   \n",
       "4       10014078  25809882.0  2166-08-22                                 NaN   \n",
       "...          ...         ...         ...                                 ...   \n",
       "5790    19994772  29219051.0  2181-04-18                                 NaN   \n",
       "5791    19994772  29606061.0  2180-12-18                                 NaN   \n",
       "5792    19995080  23057109.0  2147-07-13                                 2.3   \n",
       "5793    19999784  24935234.0  2119-07-07                                 4.3   \n",
       "5794    19999784  26194817.0  2119-06-22                                 NaN   \n",
       "\n",
       "      Chemistry~Blood~Alkaline Phosphatase~50863~IU/L  \\\n",
       "0                                                 NaN   \n",
       "1                                                 NaN   \n",
       "2                                                48.0   \n",
       "3                                                80.0   \n",
       "4                                                 NaN   \n",
       "...                                               ...   \n",
       "5790                                              NaN   \n",
       "5791                                              NaN   \n",
       "5792                                            961.0   \n",
       "5793                                              NaN   \n",
       "5794                                              NaN   \n",
       "\n",
       "      Chemistry~Blood~Calcium, Total~50893~mg/dL  \\\n",
       "0                                            NaN   \n",
       "1                                           10.4   \n",
       "2                                            9.3   \n",
       "3                                            NaN   \n",
       "4                                            8.1   \n",
       "...                                          ...   \n",
       "5790                                         NaN   \n",
       "5791                                         9.7   \n",
       "5792                                         7.5   \n",
       "5793                                         NaN   \n",
       "5794                                         NaN   \n",
       "\n",
       "      Chemistry~Blood~Chloride~50902~mEq/L  \\\n",
       "0                                      NaN   \n",
       "1                                    102.0   \n",
       "2                                    105.0   \n",
       "3                                     95.0   \n",
       "4                                    117.0   \n",
       "...                                    ...   \n",
       "5790                                 103.0   \n",
       "5791                                 103.0   \n",
       "5792                                 105.0   \n",
       "5793                                   NaN   \n",
       "5794                                   NaN   \n",
       "\n",
       "      Chemistry~Blood~Lactate Dehydrogenase (LD)~50954~IU/L  \\\n",
       "0                                                   NaN       \n",
       "1                                                   NaN       \n",
       "2                                                   NaN       \n",
       "3                                                   NaN       \n",
       "4                                                   NaN       \n",
       "...                                                 ...       \n",
       "5790                                              150.0       \n",
       "5791                                                NaN       \n",
       "5792                                                NaN       \n",
       "5793                                              102.0       \n",
       "5794                                                NaN       \n",
       "\n",
       "      Chemistry~Blood~Phosphate~50970~mg/dL  \\\n",
       "0                                       NaN   \n",
       "1                                       2.8   \n",
       "2                                       2.5   \n",
       "3                                       NaN   \n",
       "4                                       2.8   \n",
       "...                                     ...   \n",
       "5790                                    NaN   \n",
       "5791                                    3.3   \n",
       "5792                                    2.3   \n",
       "5793                                    NaN   \n",
       "5794                                    NaN   \n",
       "\n",
       "      Chemistry~Blood~Urea Nitrogen~51006~mg/dL  \\\n",
       "0                                           NaN   \n",
       "1                                          32.0   \n",
       "2                                          18.0   \n",
       "3                                          15.0   \n",
       "4                                           7.0   \n",
       "...                                         ...   \n",
       "5790                                        9.0   \n",
       "5791                                       16.0   \n",
       "5792                                       17.0   \n",
       "5793                                        NaN   \n",
       "5794                                        NaN   \n",
       "\n",
       "      Hematology~Blood~Eosinophils~51200~%  Hematology~Blood~INR(PT)~51237~  \\\n",
       "0                                      NaN                              NaN   \n",
       "1                                      NaN                              NaN   \n",
       "2                                      3.2                              NaN   \n",
       "3                                      0.0                              NaN   \n",
       "4                                      NaN                              NaN   \n",
       "...                                    ...                              ...   \n",
       "5790                                   0.3                              NaN   \n",
       "5791                                   0.2                              NaN   \n",
       "5792                                   0.3                              1.1   \n",
       "5793                                   0.6                              NaN   \n",
       "5794                                   NaN                              NaN   \n",
       "\n",
       "      Hematology~Blood~MCV~51250~fL  \\\n",
       "0                               NaN   \n",
       "1                              78.0   \n",
       "2                              87.0   \n",
       "3                              66.0   \n",
       "4                              76.0   \n",
       "...                             ...   \n",
       "5790                           92.0   \n",
       "5791                           93.0   \n",
       "5792                           94.0   \n",
       "5793                           84.0   \n",
       "5794                            NaN   \n",
       "\n",
       "      Hematology~Blood~Platelet Count~51265~K/uL  \\\n",
       "0                                            NaN   \n",
       "1                                          557.0   \n",
       "2                                          256.0   \n",
       "3                                          225.0   \n",
       "4                                          201.0   \n",
       "...                                          ...   \n",
       "5790                                       325.0   \n",
       "5791                                       257.0   \n",
       "5792                                       377.0   \n",
       "5793                                       275.0   \n",
       "5794                                         NaN   \n",
       "\n",
       "      Hematology~Blood~PT~51274~sec  Hematology~Blood~RDW~51277~%  \\\n",
       "0                               NaN                           NaN   \n",
       "1                               NaN                          18.3   \n",
       "2                               NaN                          13.9   \n",
       "3                               NaN                          20.1   \n",
       "4                               NaN                          13.7   \n",
       "...                             ...                           ...   \n",
       "5790                            NaN                          12.7   \n",
       "5791                            NaN                          12.4   \n",
       "5792                           12.7                          15.7   \n",
       "5793                            NaN                          14.6   \n",
       "5794                            NaN                           NaN   \n",
       "\n",
       "      Hematology~Blood~Red Blood Cells~51279~m/uL  \\\n",
       "0                                             NaN   \n",
       "1                                            4.04   \n",
       "2                                            5.03   \n",
       "3                                            4.66   \n",
       "4                                            4.32   \n",
       "...                                           ...   \n",
       "5790                                         4.02   \n",
       "5791                                         3.46   \n",
       "5792                                         3.52   \n",
       "5793                                         4.65   \n",
       "5794                                          NaN   \n",
       "\n",
       "      Hematology~Blood~White Blood Cells~51301~K/uL  \\\n",
       "0                                               NaN   \n",
       "1                                              16.6   \n",
       "2                                               9.8   \n",
       "3                                              10.0   \n",
       "4                                               6.9   \n",
       "...                                             ...   \n",
       "5790                                           10.7   \n",
       "5791                                            7.2   \n",
       "5792                                            3.8   \n",
       "5793                                            5.0   \n",
       "5794                                            NaN   \n",
       "\n",
       "      Chemistry~Cerebrospinal Fluid~Lactate Dehydrogenase, CSF~51795~IU/L  \\\n",
       "0                                                   NaN                     \n",
       "1                                                   NaN                     \n",
       "2                                                   NaN                     \n",
       "3                                                   NaN                     \n",
       "4                                                   NaN                     \n",
       "...                                                 ...                     \n",
       "5790                                                NaN                     \n",
       "5791                                                NaN                     \n",
       "5792                                                NaN                     \n",
       "5793                                               23.0                     \n",
       "5794                                               19.0                     \n",
       "\n",
       "      Chemistry~Cerebrospinal Fluid~Total Protein, CSF~51802~mg/dL  \\\n",
       "0                                                  42.0              \n",
       "1                                                  75.0              \n",
       "2                                                  72.0              \n",
       "3                                                 100.0              \n",
       "4                                                  75.0              \n",
       "...                                                 ...              \n",
       "5790                                              244.0              \n",
       "5791                                              295.0              \n",
       "5792                                               44.0              \n",
       "5793                                              146.0              \n",
       "5794                                              114.0              \n",
       "\n",
       "      Hematology~Cerebrospinal Fluid~Eosinophils~52256~%  \\\n",
       "0                                                   NaN    \n",
       "1                                                   NaN    \n",
       "2                                                   NaN    \n",
       "3                                                   NaN    \n",
       "4                                                   NaN    \n",
       "...                                                 ...    \n",
       "5790                                                NaN    \n",
       "5791                                                NaN    \n",
       "5792                                                NaN    \n",
       "5793                                                NaN    \n",
       "5794                                                1.0    \n",
       "\n",
       "      Hematology~Cerebrospinal Fluid~Polys~52281~%  \\\n",
       "0                                              0.0   \n",
       "1                                             10.0   \n",
       "2                                              0.0   \n",
       "3                                              1.0   \n",
       "4                                             27.0   \n",
       "...                                            ...   \n",
       "5790                                          88.0   \n",
       "5791                                         100.0   \n",
       "5792                                           8.0   \n",
       "5793                                           1.0   \n",
       "5794                                           2.0   \n",
       "\n",
       "      Hematology~Cerebrospinal Fluid~RBC, CSF~52285~#/uL  age  resprate  \\\n",
       "0                                                   5.0    55      16.0   \n",
       "1                                                 430.0    72      16.0   \n",
       "2                                                 510.0    53       NaN   \n",
       "3                                                   2.0    51      19.0   \n",
       "4                                                   1.0    60       NaN   \n",
       "...                                                 ...   ...       ...   \n",
       "5790                                                0.0    55      20.0   \n",
       "5791                                             5100.0    54       NaN   \n",
       "5792                                                1.0    59       NaN   \n",
       "5793                                                4.0    57      16.0   \n",
       "5794                                                1.0    57      18.0   \n",
       "\n",
       "      acuity                                    Chief Complaint  \\\n",
       "0        3.0  LEFT HAND PAINS, Left hand and face numbness, ...   \n",
       "1        2.0       FEVER/MS CHANGES, confusion, rehab placement   \n",
       "2        NaN                         limb weakness and tingling   \n",
       "3        3.0                                    Fever, Headache   \n",
       "4        NaN                                            seizure   \n",
       "...      ...                                                ...   \n",
       "5790     2.0                   Aletered mental status and fever   \n",
       "5791     NaN                            Recurrent glioblastoma.   \n",
       "5792     NaN  Confusion- Altered Mental Status- transfer fro...   \n",
       "5793     2.0                             Abnormal MRI, weakness   \n",
       "5794     3.0            L Leg weakness, LLE weakness, dysphagia   \n",
       "\n",
       "                                              icd_title  \\\n",
       "0     Cerebral edema; Compression of brain; Family h...   \n",
       "1     Acute kidney failure, unspecified; Asthma, uns...   \n",
       "2                          Acute infective polyneuritis   \n",
       "3     Duodenitis without bleeding; Essential (primar...   \n",
       "4     Benign neoplasm of cerebral meninges; Diabetes...   \n",
       "...                                                 ...   \n",
       "5790  Abnormal involuntary movements; Candidiasis of...   \n",
       "5791  Cerebral aneurysm, nonruptured; Compression of...   \n",
       "5792  Calculus of gallbladder and bile duct without ...   \n",
       "5793  Abnormal cytological findings in cerebrospinal...   \n",
       "5794  Anemia, unspecified; Body mass index (BMI) 23....   \n",
       "\n",
       "                             History of Present Illness  \\\n",
       "0     Mrs. ___ is a ___ y/o F from ___ with history ...   \n",
       "1     ___ male w/ PMH of sarcoidosis, sleep apnea, n...   \n",
       "2     Mr. ___ is a ___ year old right handed gentlem...   \n",
       "3                                                   NaN   \n",
       "4     The pt is a ___ year-old woman who presents as...   \n",
       "...                                                 ...   \n",
       "5790                            ___ is a ___ woman with   \n",
       "5791  Ms. ___ is a ___ y/o F s/p resection of gliobl...   \n",
       "5792  ___ M with AIDS and med non-compliance (CD4 20...   \n",
       "5793  Mr. ___ is a ___ without significant medical h...   \n",
       "5794  ___ is a ___ year-old right-handed male withou...   \n",
       "\n",
       "                                   Past Medical History  \\\n",
       "0                                    Multiple sclerosis   \n",
       "1     1. Sarcoidosis, dx skin bx:intestinal & pulmon...   \n",
       "2             Hiatal hernia in ___ Occasional heartburn   \n",
       "3                                                   NaN   \n",
       "4     hx of atypical meningioma - grade 2 - resected...   \n",
       "...                                                 ...   \n",
       "5790  PAST MEDICAL HISTORY:Recurrent glioblastoma in...   \n",
       "5791                                     Hyperlipidemia   \n",
       "5792  - AIDS off ART prescribed for Truvada T qd, Ka...   \n",
       "5793  PAST ONCOLOGIC HISTORY:___ is a ___ right-hand...   \n",
       "5794                               Tobacco use disorder   \n",
       "\n",
       "                                        Allergies  \\\n",
       "0                                     Penicillins   \n",
       "1                             Oxycodone / Ragweed   \n",
       "2     No Known Allergies / Adverse Drug Reactions   \n",
       "3     No Known Allergies / Adverse Drug Reactions   \n",
       "4     No Known Allergies / Adverse Drug Reactions   \n",
       "...                                           ...   \n",
       "5790                                       Keflex   \n",
       "5791                                          ___   \n",
       "5792                                  Penicillins   \n",
       "5793  No Known Allergies / Adverse Drug Reactions   \n",
       "5794  No Known Allergies / Adverse Drug Reactions   \n",
       "\n",
       "                                         Family History  hospital_expire_flag  \n",
       "0     Mother with pancreatic cancer, brother-lung ca...                     0  \n",
       "1     Mother:___, cardiac disease. Father:diverticul...                     0  \n",
       "2     He has no family history of autoimmune disease...                     0  \n",
       "3                                                   NaN                     0  \n",
       "4                                       noncontributory                     0  \n",
       "...                                                 ...                   ...  \n",
       "5790                                  Non-contributory.                     0  \n",
       "5791                                   non-contributory                     0  \n",
       "5792  Father died of AD at age ___. Mother died of D...                     0  \n",
       "5793  Father had prostate cancer.  Denies otherwise ...                     0  \n",
       "5794  - Great nephew ___ years) with recently diagno...                     0  \n",
       "\n",
       "[5795 rows x 33 columns]"
      ]
     },
     "execution_count": 6,
     "metadata": {},
     "output_type": "execute_result"
    }
   ],
   "source": [
    "df2 = pd.read_csv(\"E:/CNSI_project/demo_and_data_5.0/Processed_data/MIMIC/aim2_dataAll_filtered.csv\")\n",
    "df2"
   ]
  },
  {
   "cell_type": "code",
   "execution_count": 7,
   "id": "8216d7b4",
   "metadata": {
    "scrolled": true
   },
   "outputs": [
    {
     "name": "stdout",
     "output_type": "stream",
     "text": [
      "<class 'pandas.core.frame.DataFrame'>\n",
      "RangeIndex: 5795 entries, 0 to 5794\n",
      "Data columns (total 33 columns):\n",
      " #   Column                                                               Non-Null Count  Dtype  \n",
      "---  ------                                                               --------------  -----  \n",
      " 0   subject_id                                                           5795 non-null   int64  \n",
      " 1   hadm_id                                                              5795 non-null   float64\n",
      " 2   chartdate                                                            5795 non-null   object \n",
      " 3   Chemistry~Blood~Albumin~50862~g/dL                                   1486 non-null   float64\n",
      " 4   Chemistry~Blood~Alkaline Phosphatase~50863~IU/L                      2241 non-null   float64\n",
      " 5   Chemistry~Blood~Calcium, Total~50893~mg/dL                           3966 non-null   float64\n",
      " 6   Chemistry~Blood~Chloride~50902~mEq/L                                 4992 non-null   float64\n",
      " 7   Chemistry~Blood~Lactate Dehydrogenase (LD)~50954~IU/L                1322 non-null   float64\n",
      " 8   Chemistry~Blood~Phosphate~50970~mg/dL                                3944 non-null   float64\n",
      " 9   Chemistry~Blood~Urea Nitrogen~51006~mg/dL                            5037 non-null   float64\n",
      " 10  Hematology~Blood~Eosinophils~51200~%                                 2437 non-null   float64\n",
      " 11  Hematology~Blood~INR(PT)~51237~                                      3163 non-null   float64\n",
      " 12  Hematology~Blood~MCV~51250~fL                                        5040 non-null   float64\n",
      " 13  Hematology~Blood~Platelet Count~51265~K/uL                           5042 non-null   float64\n",
      " 14  Hematology~Blood~PT~51274~sec                                        3163 non-null   float64\n",
      " 15  Hematology~Blood~RDW~51277~%                                         5037 non-null   float64\n",
      " 16  Hematology~Blood~Red Blood Cells~51279~m/uL                          5040 non-null   float64\n",
      " 17  Hematology~Blood~White Blood Cells~51301~K/uL                        5040 non-null   float64\n",
      " 18  Chemistry~Cerebrospinal Fluid~Lactate Dehydrogenase, CSF~51795~IU/L  933 non-null    float64\n",
      " 19  Chemistry~Cerebrospinal Fluid~Total Protein, CSF~51802~mg/dL         5569 non-null   float64\n",
      " 20  Hematology~Cerebrospinal Fluid~Eosinophils~52256~%                   586 non-null    float64\n",
      " 21  Hematology~Cerebrospinal Fluid~Polys~52281~%                         5652 non-null   float64\n",
      " 22  Hematology~Cerebrospinal Fluid~RBC, CSF~52285~#/uL                   5630 non-null   float64\n",
      " 23  age                                                                  5795 non-null   int64  \n",
      " 24  resprate                                                             2556 non-null   float64\n",
      " 25  acuity                                                               2834 non-null   float64\n",
      " 26  Chief Complaint                                                      5601 non-null   object \n",
      " 27  icd_title                                                            5791 non-null   object \n",
      " 28  History of Present Illness                                           5614 non-null   object \n",
      " 29  Past Medical History                                                 5613 non-null   object \n",
      " 30  Allergies                                                            5670 non-null   object \n",
      " 31  Family History                                                       5585 non-null   object \n",
      " 32  hospital_expire_flag                                                 5795 non-null   int64  \n",
      "dtypes: float64(23), int64(3), object(7)\n",
      "memory usage: 1.5+ MB\n"
     ]
    }
   ],
   "source": [
    "df2.info()"
   ]
  },
  {
   "cell_type": "code",
   "execution_count": 8,
   "id": "121be89e",
   "metadata": {},
   "outputs": [
    {
     "data": {
      "text/plain": [
       "0    5500\n",
       "1     295\n",
       "Name: hospital_expire_flag, dtype: int64"
      ]
     },
     "execution_count": 8,
     "metadata": {},
     "output_type": "execute_result"
    }
   ],
   "source": [
    "df2.hospital_expire_flag.value_counts()"
   ]
  },
  {
   "cell_type": "code",
   "execution_count": 94,
   "id": "e4a41ba8",
   "metadata": {},
   "outputs": [],
   "source": [
    "plt.rcParams.update({'font.family': 'times new roman', 'font.size': 25})"
   ]
  },
  {
   "cell_type": "code",
   "execution_count": 109,
   "id": "67b72e90",
   "metadata": {
    "scrolled": false
   },
   "outputs": [
    {
     "name": "stdout",
     "output_type": "stream",
     "text": [
      "文本Family History最长26333，总长度为1277495，平均为220.44779982743745\n"
     ]
    },
    {
     "data": {
      "image/png": "[encoded data removed]",
      "text/plain": [
       "<Figure size 540x324 with 1 Axes>"
      ]
     },
     "metadata": {
      "needs_background": "light"
     },
     "output_type": "display_data"
    }
   ],
   "source": [
    "df3 = df2.copy()\n",
    "col_name = 'Family History'\n",
    "\n",
    "col_nameNew = col_name+\"_length\"\n",
    "df3[col_nameNew] = df3[col_name].apply(lambda x: len(x) if not pd.isnull(x) else 0)\n",
    "text_counts = df3[col_nameNew].value_counts().sort_index()\n",
    "text_counts1 = text_counts.copy()\n",
    "text_counts = text_counts[text_counts.index!=0]\n",
    "\n",
    "text_freq = text_counts / text_counts.sum()\n",
    "cumulative_freq = np.cumsum(text_freq)\n",
    "\n",
    "fig, ax = plt.subplots(figsize=(7.5, 4.5))\n",
    "\n",
    "ax.plot(text_counts.index, cumulative_freq, 'b--', label='Cumulative Frequency')\n",
    "\n",
    "x0 = np.min(text_counts[~(cumulative_freq < 0.95)].index)\n",
    "y0 = cumulative_freq[x0]\n",
    "ax.annotate(f'({x0}, {round(y0, 3)})', xy=(x0, y0), xycoords='data', xytext=(30, -30), textcoords='offset points',\n",
    "            fontsize=20, arrowprops=dict(arrowstyle='->', connectionstyle='arc3,rad=-.3'))\n",
    "\n",
    "ax.plot([x0, x0], [y0, 0], 'k--', lw=1)\n",
    "ax.plot([0, x0], [y0, y0], 'k--', lw=1)\n",
    "\n",
    "ax.set_xlabel('Text Length', fontsize=23)\n",
    "ax.set_ylabel('Value', fontsize=23)\n",
    "\n",
    "ax.tick_params(axis='both', labelsize=23)\n",
    "\n",
    "ax.grid(True, linestyle='--', linewidth=0.5, color='gray')\n",
    "\n",
    "# ax.set_title('The cumulative frequency of the text length of '+ col_name , fontsize=14, fontweight='bold')\n",
    "if col_name==\"icd_title\":\n",
    "    ax.set_title(\"ICD\" , fontsize=23)\n",
    "else:\n",
    "    ax.set_title(col_name , fontsize=23)\n",
    "\n",
    "ax.legend(loc='lower right', fontsize=20)\n",
    "\n",
    "ax.set_xlim(0, )  # max(text_counts.index)\n",
    "ax.set_ylim(0, )  # 1\n",
    "\n",
    "plt.tight_layout()\n",
    "\n",
    "path = os.path.join(\"E:/CNSI_project/demo_and_data_5.0/figure_in_paper/aim2/text_length\", f\"{col_name}.tif\")\n",
    "plt.savefig(path, dpi=300, bbox_inches='tight')\n",
    "\n",
    "# plt.savefig('text_length_cumulative_freq.png', dpi=300)\n",
    "print(f\"文本{col_name}最长{max(text_counts1.index)}，总长度为{df3[col_nameNew].sum()}，平均为{df3[col_nameNew].mean()}\")\n",
    "plt.show()"
   ]
  },
  {
   "cell_type": "code",
   "execution_count": 10,
   "id": "87035c8c",
   "metadata": {},
   "outputs": [
    {
     "data": {
      "text/plain": [
       "Index(['subject_id', 'hadm_id', 'chartdate',\n",
       "       'Chemistry~Blood~Albumin~50862~g/dL',\n",
       "       'Chemistry~Blood~Alkaline Phosphatase~50863~IU/L',\n",
       "       'Chemistry~Blood~Calcium, Total~50893~mg/dL',\n",
       "       'Chemistry~Blood~Chloride~50902~mEq/L',\n",
       "       'Chemistry~Blood~Lactate Dehydrogenase (LD)~50954~IU/L',\n",
       "       'Chemistry~Blood~Phosphate~50970~mg/dL',\n",
       "       'Chemistry~Blood~Urea Nitrogen~51006~mg/dL',\n",
       "       'Hematology~Blood~Eosinophils~51200~%',\n",
       "       'Hematology~Blood~INR(PT)~51237~', 'Hematology~Blood~MCV~51250~fL',\n",
       "       'Hematology~Blood~Platelet Count~51265~K/uL',\n",
       "       'Hematology~Blood~PT~51274~sec', 'Hematology~Blood~RDW~51277~%',\n",
       "       'Hematology~Blood~Red Blood Cells~51279~m/uL',\n",
       "       'Hematology~Blood~White Blood Cells~51301~K/uL',\n",
       "       'Chemistry~Cerebrospinal Fluid~Lactate Dehydrogenase, CSF~51795~IU/L',\n",
       "       'Chemistry~Cerebrospinal Fluid~Total Protein, CSF~51802~mg/dL',\n",
       "       'Hematology~Cerebrospinal Fluid~Eosinophils~52256~%',\n",
       "       'Hematology~Cerebrospinal Fluid~Polys~52281~%',\n",
       "       'Hematology~Cerebrospinal Fluid~RBC, CSF~52285~#/uL', 'age', 'resprate',\n",
       "       'acuity', 'Chief Complaint', 'icd_title', 'History of Present Illness',\n",
       "       'Past Medical History', 'Allergies', 'Family History',\n",
       "       'hospital_expire_flag'],\n",
       "      dtype='object')"
      ]
     },
     "execution_count": 10,
     "metadata": {},
     "output_type": "execute_result"
    }
   ],
   "source": [
    "df2.columns"
   ]
  },
  {
   "cell_type": "code",
   "execution_count": 13,
   "id": "61aced6f",
   "metadata": {},
   "outputs": [
    {
     "name": "stderr",
     "output_type": "stream",
     "text": [
      "Some weights of the PyTorch model were not used when initializing the TF 2.0 model TFBertModel: ['cls.predictions.transform.dense.weight', 'cls.predictions.transform.LayerNorm.weight', 'cls.seq_relationship.bias', 'cls.seq_relationship.weight', 'cls.predictions.bias', 'cls.predictions.decoder.weight', 'cls.predictions.transform.LayerNorm.bias', 'cls.predictions.transform.dense.bias']\n",
      "- This IS expected if you are initializing TFBertModel from a PyTorch model trained on another task or with another architecture (e.g. initializing a TFBertForSequenceClassification model from a BertForPreTraining model).\n",
      "- This IS NOT expected if you are initializing TFBertModel from a PyTorch model that you expect to be exactly identical (e.g. initializing a TFBertForSequenceClassification model from a BertForSequenceClassification model).\n",
      "All the weights of TFBertModel were initialized from the PyTorch model.\n",
      "If your task is similar to the task the model of the checkpoint was trained on, you can already use TFBertModel for predictions without further training.\n"
     ]
    }
   ],
   "source": [
    "# Load ClinicalBERT tokenizer and model\n",
    "pretrained_model = 'G:/BertModels/BioBERT'\n",
    "tokenizer = AutoTokenizer.from_pretrained(pretrained_model)\n",
    "model = TFBertModel.from_pretrained(pretrained_model, from_pt=True)"
   ]
  },
  {
   "cell_type": "raw",
   "id": "1c1fde06",
   "metadata": {},
   "source": [
    "In natural language processing, ‘token’ refers to the process of dividing text into smaller units or symbols. In this case, each token represents a word in the text."
   ]
  },
  {
   "cell_type": "markdown",
   "id": "abc92890",
   "metadata": {},
   "source": [
    "# 1. word2vec: ChiefComplaint_combined"
   ]
  },
  {
   "cell_type": "code",
   "execution_count": 48,
   "id": "a0d865f0",
   "metadata": {},
   "outputs": [],
   "source": [
    "# 1 Prepare word2vec for the general case\n",
    "col = \"Chief Complaint\"\n",
    "sentences_maxlength = 1398   # In the most extreme case, it's one token per character #"
   ]
  },
  {
   "cell_type": "code",
   "execution_count": 49,
   "id": "6f451dc3",
   "metadata": {},
   "outputs": [
    {
     "name": "stdout",
     "output_type": "stream",
     "text": [
      "(5795, 1398)\n"
     ]
    },
    {
     "data": {
      "text/plain": [
       "array([[ 1286,  1289, 24782, ...,     0,     0,     0],\n",
       "       [10880,   120,   182, ...,     0,     0,     0],\n",
       "       [16864, 11477,  1105, ...,     0,     0,     0],\n",
       "       ...,\n",
       "       [ 6406,   118,  8599, ...,     0,     0,     0],\n",
       "       [22832,   182,  2047, ...,     0,     0,     0],\n",
       "       [  181,  3420, 11477, ...,     0,     0,     0]])"
      ]
     },
     "execution_count": 49,
     "metadata": {},
     "output_type": "execute_result"
    }
   ],
   "source": [
    "sentences = df2[col].fillna(\"\").values.tolist()\n",
    "encoding = tokenizer(sentences, \n",
    "                     add_special_tokens=False, \n",
    "                     return_tensors='tf', \n",
    "                     padding='max_length', \n",
    "                     truncation=True, \n",
    "                     max_length=sentences_maxlength)\n",
    "\n",
    "input_ids = encoding['input_ids']\n",
    "input_ids1 = input_ids.numpy()\n",
    "print(input_ids1.shape)\n",
    "input_ids1"
   ]
  },
  {
   "cell_type": "code",
   "execution_count": 76,
   "id": "907dd55f",
   "metadata": {
    "scrolled": false
   },
   "outputs": [
    {
     "name": "stdout",
     "output_type": "stream",
     "text": [
      "最长的tokens为362个词汇或单词。\n"
     ]
    },
    {
     "data": {
      "image/png": "[encoded data removed]",
      "text/plain": [
       "<Figure size 540x324 with 1 Axes>"
      ]
     },
     "metadata": {
      "needs_background": "light"
     },
     "output_type": "display_data"
    }
   ],
   "source": [
    "# Count the number of non-zero values in each row, i.e. the number converted to tokens. Then do the frequency accumulation graph\n",
    "counts = np.count_nonzero(input_ids1, axis=1)\n",
    "x0,x1,x2 = count_freq(col, counts)"
   ]
  },
  {
   "cell_type": "code",
   "execution_count": 33,
   "id": "a0ad6f73",
   "metadata": {},
   "outputs": [
    {
     "name": "stdout",
     "output_type": "stream",
     "text": [
      "(5794, 31)\n"
     ]
    },
    {
     "data": {
      "text/plain": [
       "array([[ 1260,  7889,  7412, ...,     0,     0,     0],\n",
       "       [ 4036,   117, 21718, ...,     0,     0,     0],\n",
       "       [16320,   117,  5173, ...,     0,     0,     0],\n",
       "       ...,\n",
       "       [10880,   117, 11477, ...,     0,     0,     0],\n",
       "       [20752,   119,     0, ...,     0,     0,     0],\n",
       "       [  170,  8178,  1126, ...,     0,     0,     0]])"
      ]
     },
     "execution_count": 33,
     "metadata": {},
     "output_type": "execute_result"
    }
   ],
   "source": [
    "input_ids1_cumF99 = input_ids1[:,:x0]\n",
    "print(input_ids1_cumF99.shape)\n",
    "input_ids1_cumF99"
   ]
  },
  {
   "cell_type": "code",
   "execution_count": 34,
   "id": "54a371ec",
   "metadata": {},
   "outputs": [
    {
     "name": "stdout",
     "output_type": "stream",
     "text": [
      "(5794, 20)\n"
     ]
    },
    {
     "data": {
      "text/plain": [
       "array([[ 1260,  7889,  7412, ...,   119,     0,     0],\n",
       "       [ 4036,   117, 21718, ...,     0,     0,     0],\n",
       "       [16320,   117,  5173, ...,     0,     0,     0],\n",
       "       ...,\n",
       "       [10880,   117, 11477, ...,     0,     0,     0],\n",
       "       [20752,   119,     0, ...,     0,     0,     0],\n",
       "       [  170,  8178,  1126, ...,     0,     0,     0]])"
      ]
     },
     "execution_count": 34,
     "metadata": {},
     "output_type": "execute_result"
    }
   ],
   "source": [
    "input_ids1_cumF95 = input_ids1[:,:x1]\n",
    "print(input_ids1_cumF95.shape)\n",
    "input_ids1_cumF95"
   ]
  },
  {
   "cell_type": "code",
   "execution_count": 35,
   "id": "6c66848b",
   "metadata": {},
   "outputs": [
    {
     "name": "stdout",
     "output_type": "stream",
     "text": [
      "(5794, 16)\n"
     ]
    },
    {
     "data": {
      "text/plain": [
       "array([[ 1260,  7889,  7412, ...,  2765,  1610, 16430],\n",
       "       [ 4036,   117, 21718, ...,     0,     0,     0],\n",
       "       [16320,   117,  5173, ...,     0,     0,     0],\n",
       "       ...,\n",
       "       [10880,   117, 11477, ..., 13200, 23610,     0],\n",
       "       [20752,   119,     0, ...,     0,     0,     0],\n",
       "       [  170,  8178,  1126, ...,     0,     0,     0]])"
      ]
     },
     "execution_count": 35,
     "metadata": {},
     "output_type": "execute_result"
    }
   ],
   "source": [
    "input_ids1_cumF90 = input_ids1[:,:x2]\n",
    "print(input_ids1_cumF90.shape)\n",
    "input_ids1_cumF90"
   ]
  },
  {
   "cell_type": "code",
   "execution_count": 48,
   "id": "8c498500",
   "metadata": {},
   "outputs": [],
   "source": [
    "# 2 Preparing word2vec for the LSTM"
   ]
  },
  {
   "cell_type": "code",
   "execution_count": 36,
   "id": "4ff859f3",
   "metadata": {},
   "outputs": [
    {
     "name": "stdout",
     "output_type": "stream",
     "text": [
      "There are 2293 unique words in the texts.\n"
     ]
    }
   ],
   "source": [
    "texts = df2[col].fillna(\"\").values.tolist()\n",
    "texts = add_space_around_punctuation(texts)\n",
    "# Create an empty collection to store unique words in the text\n",
    "unique_words = set()\n",
    "\n",
    "# Traverse the text list\n",
    "for text in texts:\n",
    "    # Use str.split() to split spaces by default\n",
    "    words = text.split()\n",
    "    # Add words to a collection, automatically de-duplicated\n",
    "    unique_words.update(words)\n",
    "\n",
    "# Count the number of different words\n",
    "unique_word_count = len(unique_words)\n",
    "print(f'There are {unique_word_count} unique words in the texts.')"
   ]
  },
  {
   "cell_type": "code",
   "execution_count": 37,
   "id": "ae835eb8",
   "metadata": {},
   "outputs": [
    {
     "name": "stdout",
     "output_type": "stream",
     "text": [
      "(5794, 1398)\n"
     ]
    },
    {
     "data": {
      "text/plain": [
       "array([[462,   1,   7, ...,   0,   0,   0],\n",
       "       [ 12,   1,  54, ...,   0,   0,   0],\n",
       "       [  2,   1,  56, ...,   0,   0,   0],\n",
       "       ...,\n",
       "       [ 11,   1,   7, ...,   0,   0,   0],\n",
       "       [ 14,  13,   0, ...,   0,   0,   0],\n",
       "       [701, 146,  98, ...,   0,   0,   0]])"
      ]
     },
     "execution_count": 37,
     "metadata": {},
     "output_type": "execute_result"
    }
   ],
   "source": [
    "# Text pre-processing\n",
    "max_fatures = int(unique_word_count*1)\n",
    "# filters = '!\"#$%&()*+.,-/:;<=>?@[\\\\]^_`{|}~\\t\\n' \n",
    "tokenizer1 = Tokenizer(num_words=max_fatures, filters='', split=' ')\n",
    "tokenizer1.fit_on_texts(texts)\n",
    "\n",
    "# Save tokenizer1 for subsequent continuation of similar data processing\n",
    "with open('E:/CNSI_project/demo_and_data_5.0/Processed_data/MIMIC/aim2_merged_VecData/tokenizer1.pkl', 'wb') as f:  \n",
    "    pickle.dump(tokenizer1, f)\n",
    "\n",
    "# texts to sequences\n",
    "text_vec = tokenizer1.texts_to_sequences(texts)\n",
    "\n",
    "# Become the same length\n",
    "input_vec1 = pad_sequences(text_vec, padding='post', maxlen=sentences_maxlength)\n",
    "print(input_vec1.shape)\n",
    "input_vec1"
   ]
  },
  {
   "cell_type": "code",
   "execution_count": 38,
   "id": "70bfc307",
   "metadata": {},
   "outputs": [
    {
     "name": "stdout",
     "output_type": "stream",
     "text": [
      "最长的tokens为294个词汇或单词。\n"
     ]
    },
    {
     "data": {
      "image/png": "[encoded data removed]",
      "text/plain": [
       "<Figure size 360x216 with 1 Axes>"
      ]
     },
     "metadata": {
      "needs_background": "light"
     },
     "output_type": "display_data"
    }
   ],
   "source": [
    "# Count the number of non-zero values in each row, i.e. the number converted to tokens. Then do the frequency accumulation graph\n",
    "counts = np.count_nonzero(input_vec1, axis=1)\n",
    "x0,x1,x2 = count_freq(col, counts)"
   ]
  },
  {
   "cell_type": "code",
   "execution_count": 39,
   "id": "3c1a9972",
   "metadata": {},
   "outputs": [
    {
     "name": "stdout",
     "output_type": "stream",
     "text": [
      "(5794, 23)\n"
     ]
    },
    {
     "data": {
      "text/plain": [
       "array([[462,   1,   7, ...,   0,   0,   0],\n",
       "       [ 12,   1,  54, ...,   0,   0,   0],\n",
       "       [  2,   1,  56, ...,   0,   0,   0],\n",
       "       ...,\n",
       "       [ 11,   1,   7, ...,   0,   0,   0],\n",
       "       [ 14,  13,   0, ...,   0,   0,   0],\n",
       "       [701, 146,  98, ...,   0,   0,   0]])"
      ]
     },
     "execution_count": 39,
     "metadata": {},
     "output_type": "execute_result"
    }
   ],
   "source": [
    "input_vec1_cumF99 = input_vec1[:,:x0]\n",
    "print(input_vec1_cumF99.shape)\n",
    "input_vec1_cumF99"
   ]
  },
  {
   "cell_type": "code",
   "execution_count": 40,
   "id": "6ee80ef7",
   "metadata": {},
   "outputs": [
    {
     "name": "stdout",
     "output_type": "stream",
     "text": [
      "(5794, 14)\n"
     ]
    },
    {
     "data": {
      "text/plain": [
       "array([[462,   1,   7, ...,   0,   0,   0],\n",
       "       [ 12,   1,  54, ...,   0,   0,   0],\n",
       "       [  2,   1,  56, ...,   0,   0,   0],\n",
       "       ...,\n",
       "       [ 11,   1,   7, ...,   0,   0,   0],\n",
       "       [ 14,  13,   0, ...,   0,   0,   0],\n",
       "       [701, 146,  98, ...,   0,   0,   0]])"
      ]
     },
     "execution_count": 40,
     "metadata": {},
     "output_type": "execute_result"
    }
   ],
   "source": [
    "input_vec1_cumF95 = input_vec1[:,:x1]\n",
    "print(input_vec1_cumF95.shape)\n",
    "input_vec1_cumF95"
   ]
  },
  {
   "cell_type": "code",
   "execution_count": 41,
   "id": "b1861f56",
   "metadata": {},
   "outputs": [
    {
     "name": "stdout",
     "output_type": "stream",
     "text": [
      "(5794, 12)\n"
     ]
    },
    {
     "data": {
      "text/plain": [
       "array([[462,   1,   7, ..., 690,  13,   0],\n",
       "       [ 12,   1,  54, ...,  26,   0,   0],\n",
       "       [  2,   1,  56, ...,   0,   0,   0],\n",
       "       ...,\n",
       "       [ 11,   1,   7, ...,  10, 139,   0],\n",
       "       [ 14,  13,   0, ...,   0,   0,   0],\n",
       "       [701, 146,  98, ...,   0,   0,   0]])"
      ]
     },
     "execution_count": 41,
     "metadata": {},
     "output_type": "execute_result"
    }
   ],
   "source": [
    "input_vec1_cumF90 = input_vec1[:,:x2]\n",
    "print(input_vec1_cumF90.shape)\n",
    "input_vec1_cumF90"
   ]
  },
  {
   "cell_type": "markdown",
   "id": "21a5bf06",
   "metadata": {},
   "source": [
    "# 2. word2vec: icd_title"
   ]
  },
  {
   "cell_type": "code",
   "execution_count": 77,
   "id": "081beda2",
   "metadata": {},
   "outputs": [],
   "source": [
    "col = \"icd_title\"\n",
    "sentences_maxlength = 2784"
   ]
  },
  {
   "cell_type": "code",
   "execution_count": 78,
   "id": "1b15cc99",
   "metadata": {},
   "outputs": [
    {
     "name": "stdout",
     "output_type": "stream",
     "text": [
      "(5795, 2784)\n"
     ]
    },
    {
     "data": {
      "text/plain": [
       "array([[21831,  5048, 14494, ...,     0,     0,     0],\n",
       "       [12104, 16042,  4290, ...,     0,     0,     0],\n",
       "       [12104,  1107, 11916, ...,     0,     0,     0],\n",
       "       ...,\n",
       "       [27323,  1104, 20003, ...,     0,     0,     0],\n",
       "       [22832,   172, 25669, ...,     0,     0,     0],\n",
       "       [ 1126, 20504,   117, ...,     0,     0,     0]])"
      ]
     },
     "execution_count": 78,
     "metadata": {},
     "output_type": "execute_result"
    }
   ],
   "source": [
    "sentences = df2[col].fillna(\"\").values.tolist()\n",
    "encoding = tokenizer(sentences, \n",
    "                     add_special_tokens=False, \n",
    "                     return_tensors='tf', \n",
    "                     padding='max_length', \n",
    "                     truncation=True, \n",
    "                     max_length=sentences_maxlength)\n",
    "\n",
    "input_ids = encoding['input_ids']\n",
    "input_ids2 = input_ids.numpy()\n",
    "print(input_ids2.shape)\n",
    "input_ids2"
   ]
  },
  {
   "cell_type": "code",
   "execution_count": 81,
   "id": "5c7399bf",
   "metadata": {},
   "outputs": [
    {
     "name": "stdout",
     "output_type": "stream",
     "text": [
      "最长的tokens为671个词汇或单词。\n"
     ]
    },
    {
     "data": {
      "image/png": "[encoded data removed]",
      "text/plain": [
       "<Figure size 540x324 with 1 Axes>"
      ]
     },
     "metadata": {
      "needs_background": "light"
     },
     "output_type": "display_data"
    }
   ],
   "source": [
    "# Count the number of non-zero values in each row, i.e. the number converted to tokens. Then do the frequency accumulation graph\n",
    "counts = np.count_nonzero(input_ids2, axis=1)\n",
    "x0,x1,x2 = count_freq(col, counts)"
   ]
  },
  {
   "cell_type": "code",
   "execution_count": 45,
   "id": "f2bfc551",
   "metadata": {},
   "outputs": [
    {
     "name": "stdout",
     "output_type": "stream",
     "text": [
      "(5794, 477)\n"
     ]
    },
    {
     "data": {
      "text/plain": [
       "array([[ 8050, 23503,  1233, ...,     0,     0,     0],\n",
       "       [14705,  9939,  1107, ...,     0,     0,     0],\n",
       "       [12104,  9712, 15792, ...,     0,     0,     0],\n",
       "       ...,\n",
       "       [ 1404,  3367,  7448, ...,     0,     0,     0],\n",
       "       [21831,  5048, 14494, ...,     0,     0,     0],\n",
       "       [12104, 19192,  4290, ...,     0,     0,     0]])"
      ]
     },
     "execution_count": 45,
     "metadata": {},
     "output_type": "execute_result"
    }
   ],
   "source": [
    "input_ids2_cumF99 = input_ids2[:,:x0]\n",
    "print(input_ids2_cumF99.shape)\n",
    "input_ids2_cumF99"
   ]
  },
  {
   "cell_type": "code",
   "execution_count": 46,
   "id": "a706ab0e",
   "metadata": {},
   "outputs": [
    {
     "name": "stdout",
     "output_type": "stream",
     "text": [
      "(5794, 379)\n"
     ]
    },
    {
     "data": {
      "text/plain": [
       "array([[ 8050, 23503,  1233, ...,     0,     0,     0],\n",
       "       [14705,  9939,  1107, ...,     0,     0,     0],\n",
       "       [12104,  9712, 15792, ...,     0,     0,     0],\n",
       "       ...,\n",
       "       [ 1404,  3367,  7448, ...,     0,     0,     0],\n",
       "       [21831,  5048, 14494, ...,     0,     0,     0],\n",
       "       [12104, 19192,  4290, ...,     0,     0,     0]])"
      ]
     },
     "execution_count": 46,
     "metadata": {},
     "output_type": "execute_result"
    }
   ],
   "source": [
    "input_ids2_cumF95 = input_ids2[:,:x1]\n",
    "print(input_ids2_cumF95.shape)\n",
    "input_ids2_cumF95"
   ]
  },
  {
   "cell_type": "code",
   "execution_count": 47,
   "id": "8a4befe1",
   "metadata": {},
   "outputs": [
    {
     "name": "stdout",
     "output_type": "stream",
     "text": [
      "(5794, 314)\n"
     ]
    },
    {
     "data": {
      "text/plain": [
       "array([[ 8050, 23503,  1233, ...,     0,     0,     0],\n",
       "       [14705,  9939,  1107, ...,     0,     0,     0],\n",
       "       [12104,  9712, 15792, ...,     0,     0,     0],\n",
       "       ...,\n",
       "       [ 1404,  3367,  7448, ...,     0,     0,     0],\n",
       "       [21831,  5048, 14494, ...,     0,     0,     0],\n",
       "       [12104, 19192,  4290, ...,     0,     0,     0]])"
      ]
     },
     "execution_count": 47,
     "metadata": {},
     "output_type": "execute_result"
    }
   ],
   "source": [
    "input_ids2_cumF90 = input_ids2[:,:x2]\n",
    "print(input_ids2_cumF90.shape)\n",
    "input_ids2_cumF90"
   ]
  },
  {
   "cell_type": "code",
   "execution_count": 61,
   "id": "dfc1792d",
   "metadata": {},
   "outputs": [],
   "source": [
    "# 2 Preparing word2vec for the LSTM"
   ]
  },
  {
   "cell_type": "code",
   "execution_count": 48,
   "id": "d6bcfe1d",
   "metadata": {},
   "outputs": [
    {
     "name": "stdout",
     "output_type": "stream",
     "text": [
      "There are 3804 unique words in the texts.\n"
     ]
    }
   ],
   "source": [
    "texts = df2[col].fillna(\"\").values.tolist()\n",
    "texts = add_space_around_punctuation(texts)\n",
    "unique_words = set()\n",
    "\n",
    "for text in texts:\n",
    "\n",
    "    words = text.split()\n",
    "\n",
    "    unique_words.update(words)\n",
    "\n",
    "unique_word_count = len(unique_words)\n",
    "print(f'There are {unique_word_count} unique words in the texts.')"
   ]
  },
  {
   "cell_type": "code",
   "execution_count": 49,
   "id": "5b010e55",
   "metadata": {},
   "outputs": [
    {
     "name": "stdout",
     "output_type": "stream",
     "text": [
      "(5794, 2784)\n"
     ]
    },
    {
     "data": {
      "text/plain": [
       "array([[433, 556, 321, ...,   0,   0,   0],\n",
       "       [257, 324,  14, ...,   0,   0,   0],\n",
       "       [ 17,  84,   6, ...,   0,   0,   0],\n",
       "       ...,\n",
       "       [129, 148, 163, ...,   0,   0,   0],\n",
       "       [ 42, 128,   1, ...,   0,   0,   0],\n",
       "       [ 17,  77,  31, ...,   0,   0,   0]])"
      ]
     },
     "execution_count": 49,
     "metadata": {},
     "output_type": "execute_result"
    }
   ],
   "source": [
    "max_fatures = int(unique_word_count*1)\n",
    "tokenizer2 = Tokenizer(num_words=max_fatures, filters='', split=' ')\n",
    "tokenizer2.fit_on_texts(texts)\n",
    "\n",
    "# texts to sequences\n",
    "text_vec = tokenizer2.texts_to_sequences(texts)\n",
    "\n",
    "input_vec2 = pad_sequences(text_vec, padding='post', maxlen=sentences_maxlength)\n",
    "print(input_vec2.shape)\n",
    "input_vec2"
   ]
  },
  {
   "cell_type": "code",
   "execution_count": 50,
   "id": "226bf7d6",
   "metadata": {},
   "outputs": [
    {
     "name": "stdout",
     "output_type": "stream",
     "text": [
      "最长的tokens为451个词汇或单词。\n"
     ]
    },
    {
     "data": {
      "image/png": "[encoded data removed]",
      "text/plain": [
       "<Figure size 360x216 with 1 Axes>"
      ]
     },
     "metadata": {
      "needs_background": "light"
     },
     "output_type": "display_data"
    }
   ],
   "source": [
    "counts = np.count_nonzero(input_vec2, axis=1)\n",
    "x0,x1,x2 = count_freq(col, counts)"
   ]
  },
  {
   "cell_type": "code",
   "execution_count": 51,
   "id": "a4702970",
   "metadata": {},
   "outputs": [
    {
     "name": "stdout",
     "output_type": "stream",
     "text": [
      "(5794, 301)\n"
     ]
    },
    {
     "data": {
      "text/plain": [
       "array([[433, 556, 321, ...,   0,   0,   0],\n",
       "       [257, 324,  14, ...,   0,   0,   0],\n",
       "       [ 17,  84,   6, ...,   0,   0,   0],\n",
       "       ...,\n",
       "       [129, 148, 163, ...,   0,   0,   0],\n",
       "       [ 42, 128,   1, ...,   0,   0,   0],\n",
       "       [ 17,  77,  31, ...,   0,   0,   0]])"
      ]
     },
     "execution_count": 51,
     "metadata": {},
     "output_type": "execute_result"
    }
   ],
   "source": [
    "input_vec2_cumF99 = input_vec2[:,:x0]\n",
    "print(input_vec2_cumF99.shape)\n",
    "input_vec2_cumF99"
   ]
  },
  {
   "cell_type": "code",
   "execution_count": 52,
   "id": "31e30ef3",
   "metadata": {},
   "outputs": [
    {
     "name": "stdout",
     "output_type": "stream",
     "text": [
      "(5794, 234)\n"
     ]
    },
    {
     "data": {
      "text/plain": [
       "array([[433, 556, 321, ...,   0,   0,   0],\n",
       "       [257, 324,  14, ...,   0,   0,   0],\n",
       "       [ 17,  84,   6, ...,   0,   0,   0],\n",
       "       ...,\n",
       "       [129, 148, 163, ...,   0,   0,   0],\n",
       "       [ 42, 128,   1, ...,   0,   0,   0],\n",
       "       [ 17,  77,  31, ...,   0,   0,   0]])"
      ]
     },
     "execution_count": 52,
     "metadata": {},
     "output_type": "execute_result"
    }
   ],
   "source": [
    "input_vec2_cumF95 = input_vec2[:,:x1]\n",
    "print(input_vec2_cumF95.shape)\n",
    "input_vec2_cumF95"
   ]
  },
  {
   "cell_type": "code",
   "execution_count": 53,
   "id": "715d10d9",
   "metadata": {},
   "outputs": [
    {
     "name": "stdout",
     "output_type": "stream",
     "text": [
      "(5794, 192)\n"
     ]
    },
    {
     "data": {
      "text/plain": [
       "array([[433, 556, 321, ...,   0,   0,   0],\n",
       "       [257, 324,  14, ...,   0,   0,   0],\n",
       "       [ 17,  84,   6, ...,   0,   0,   0],\n",
       "       ...,\n",
       "       [129, 148, 163, ...,   0,   0,   0],\n",
       "       [ 42, 128,   1, ...,   0,   0,   0],\n",
       "       [ 17,  77,  31, ...,   0,   0,   0]])"
      ]
     },
     "execution_count": 53,
     "metadata": {},
     "output_type": "execute_result"
    }
   ],
   "source": [
    "input_vec2_cumF90 = input_vec2[:,:x2]\n",
    "print(input_vec2_cumF90.shape)\n",
    "input_vec2_cumF90"
   ]
  },
  {
   "cell_type": "markdown",
   "id": "9f3ea393",
   "metadata": {},
   "source": [
    "# 3. word2vec: Allergies"
   ]
  },
  {
   "cell_type": "code",
   "execution_count": 82,
   "id": "15585c0a",
   "metadata": {},
   "outputs": [],
   "source": [
    "col = \"Allergies\"\n",
    "sentences_maxlength = 306"
   ]
  },
  {
   "cell_type": "code",
   "execution_count": 83,
   "id": "52351014",
   "metadata": {},
   "outputs": [
    {
     "name": "stdout",
     "output_type": "stream",
     "text": [
      "(5795, 306)\n"
     ]
    },
    {
     "data": {
      "text/plain": [
       "array([[ 8228, 27989, 23824, ...,     0,     0,     0],\n",
       "       [  184, 16844,  2528, ...,     0,     0,     0],\n",
       "       [ 1185,  1227,  1155, ...,     0,     0,     0],\n",
       "       ...,\n",
       "       [ 8228, 27989, 23824, ...,     0,     0,     0],\n",
       "       [ 1185,  1227,  1155, ...,     0,     0,     0],\n",
       "       [ 1185,  1227,  1155, ...,     0,     0,     0]])"
      ]
     },
     "execution_count": 83,
     "metadata": {},
     "output_type": "execute_result"
    }
   ],
   "source": [
    "sentences = df2[col].fillna(\"\").values.tolist()\n",
    "encoding = tokenizer(sentences, \n",
    "                     add_special_tokens=False, \n",
    "                     return_tensors='tf', \n",
    "                     padding='max_length', \n",
    "                     truncation=True, \n",
    "                     max_length=sentences_maxlength)\n",
    "\n",
    "input_ids = encoding['input_ids']\n",
    "input_ids3 = input_ids.numpy()\n",
    "print(input_ids3.shape)\n",
    "input_ids3"
   ]
  },
  {
   "cell_type": "code",
   "execution_count": 84,
   "id": "c466bff7",
   "metadata": {},
   "outputs": [
    {
     "name": "stdout",
     "output_type": "stream",
     "text": [
      "最长的tokens为114个词汇或单词。\n"
     ]
    },
    {
     "data": {
      "image/png": "[encoded data removed]",
      "text/plain": [
       "<Figure size 540x324 with 1 Axes>"
      ]
     },
     "metadata": {
      "needs_background": "light"
     },
     "output_type": "display_data"
    }
   ],
   "source": [
    "counts = np.count_nonzero(input_ids3, axis=1)\n",
    "x0,x1,x2 = count_freq(col, counts)"
   ]
  },
  {
   "cell_type": "code",
   "execution_count": 57,
   "id": "449948bd",
   "metadata": {},
   "outputs": [
    {
     "name": "stdout",
     "output_type": "stream",
     "text": [
      "(5794, 47)\n"
     ]
    },
    {
     "data": {
      "text/plain": [
       "array([[  178,  1964, 23966, ...,     0,     0,     0],\n",
       "       [ 1185,  1227,  1155, ...,     0,     0,     0],\n",
       "       [    0,     0,     0, ...,     0,     0,     0],\n",
       "       ...,\n",
       "       [ 1185,  1227,  1155, ...,     0,     0,     0],\n",
       "       [ 5351,  1802,  1112, ...,     0,     0,     0],\n",
       "       [ 1185,  1227,  1155, ...,     0,     0,     0]])"
      ]
     },
     "execution_count": 57,
     "metadata": {},
     "output_type": "execute_result"
    }
   ],
   "source": [
    "input_ids3_cumF99 = input_ids3[:,:x0]\n",
    "print(input_ids3_cumF99.shape)\n",
    "input_ids3_cumF99"
   ]
  },
  {
   "cell_type": "code",
   "execution_count": 58,
   "id": "55fe4c8d",
   "metadata": {},
   "outputs": [
    {
     "name": "stdout",
     "output_type": "stream",
     "text": [
      "(5794, 26)\n"
     ]
    },
    {
     "data": {
      "text/plain": [
       "array([[  178,  1964, 23966, ...,     0,     0,     0],\n",
       "       [ 1185,  1227,  1155, ...,     0,     0,     0],\n",
       "       [    0,     0,     0, ...,     0,     0,     0],\n",
       "       ...,\n",
       "       [ 1185,  1227,  1155, ...,     0,     0,     0],\n",
       "       [ 5351,  1802,  1112, ...,     0,     0,     0],\n",
       "       [ 1185,  1227,  1155, ...,     0,     0,     0]])"
      ]
     },
     "execution_count": 58,
     "metadata": {},
     "output_type": "execute_result"
    }
   ],
   "source": [
    "input_ids3_cumF95 = input_ids3[:,:x1]\n",
    "print(input_ids3_cumF95.shape)\n",
    "input_ids3_cumF95"
   ]
  },
  {
   "cell_type": "code",
   "execution_count": 59,
   "id": "2af3cda0",
   "metadata": {},
   "outputs": [
    {
     "name": "stdout",
     "output_type": "stream",
     "text": [
      "(5794, 18)\n"
     ]
    },
    {
     "data": {
      "text/plain": [
       "array([[  178,  1964, 23966, ...,     0,     0,     0],\n",
       "       [ 1185,  1227,  1155, ...,     0,     0,     0],\n",
       "       [    0,     0,     0, ...,     0,     0,     0],\n",
       "       ...,\n",
       "       [ 1185,  1227,  1155, ...,     0,     0,     0],\n",
       "       [ 5351,  1802,  1112, ...,     0,     0,     0],\n",
       "       [ 1185,  1227,  1155, ...,     0,     0,     0]])"
      ]
     },
     "execution_count": 59,
     "metadata": {},
     "output_type": "execute_result"
    }
   ],
   "source": [
    "input_ids3_cumF90 = input_ids3[:,:x2]\n",
    "print(input_ids3_cumF90.shape)\n",
    "input_ids3_cumF90"
   ]
  },
  {
   "cell_type": "code",
   "execution_count": 60,
   "id": "41b92d81",
   "metadata": {},
   "outputs": [],
   "source": [
    "# 2 为LSTM准备word2vec"
   ]
  },
  {
   "cell_type": "code",
   "execution_count": 61,
   "id": "db9ce846",
   "metadata": {},
   "outputs": [
    {
     "name": "stdout",
     "output_type": "stream",
     "text": [
      "There are 1171 unique words in the texts.\n"
     ]
    }
   ],
   "source": [
    "texts = df2[col].fillna(\"\").values.tolist()\n",
    "texts = add_space_around_punctuation(texts)\n",
    "unique_words = set()\n",
    "\n",
    "for text in texts:\n",
    "    words = text.split()\n",
    "    unique_words.update(words)\n",
    "\n",
    "unique_word_count = len(unique_words)\n",
    "print(f'There are {unique_word_count} unique words in the texts.')"
   ]
  },
  {
   "cell_type": "code",
   "execution_count": 62,
   "id": "bb171360",
   "metadata": {},
   "outputs": [
    {
     "name": "stdout",
     "output_type": "stream",
     "text": [
      "(5794, 306)\n"
     ]
    },
    {
     "data": {
      "text/plain": [
       "array([[38, 36, 49, ...,  0,  0,  0],\n",
       "       [ 3,  4,  2, ...,  0,  0,  0],\n",
       "       [ 0,  0,  0, ...,  0,  0,  0],\n",
       "       ...,\n",
       "       [ 3,  4,  2, ...,  0,  0,  0],\n",
       "       [13,  8, 10, ...,  0,  0,  0],\n",
       "       [ 3,  4,  2, ...,  0,  0,  0]])"
      ]
     },
     "execution_count": 62,
     "metadata": {},
     "output_type": "execute_result"
    }
   ],
   "source": [
    "max_fatures = int(unique_word_count*1)\n",
    "tokenizer3 = Tokenizer(num_words=max_fatures, filters='', split=' ')\n",
    "tokenizer3.fit_on_texts(texts)\n",
    "\n",
    "# texts to sequences\n",
    "text_vec = tokenizer3.texts_to_sequences(texts)\n",
    "\n",
    "input_vec3 = pad_sequences(text_vec, padding='post', maxlen=sentences_maxlength)\n",
    "print(input_vec3.shape)\n",
    "input_vec3"
   ]
  },
  {
   "cell_type": "code",
   "execution_count": 63,
   "id": "d7aa1216",
   "metadata": {},
   "outputs": [
    {
     "name": "stdout",
     "output_type": "stream",
     "text": [
      "最长的tokens为51个词汇或单词。\n"
     ]
    },
    {
     "data": {
      "image/png": "[encoded data removed]",
      "text/plain": [
       "<Figure size 360x216 with 1 Axes>"
      ]
     },
     "metadata": {
      "needs_background": "light"
     },
     "output_type": "display_data"
    }
   ],
   "source": [
    "counts = np.count_nonzero(input_vec3, axis=1)\n",
    "x0,x1,x2 = count_freq(col, counts)"
   ]
  },
  {
   "cell_type": "code",
   "execution_count": 64,
   "id": "d06bca75",
   "metadata": {},
   "outputs": [
    {
     "name": "stdout",
     "output_type": "stream",
     "text": [
      "(5794, 23)\n"
     ]
    },
    {
     "data": {
      "text/plain": [
       "array([[38, 36, 49, ...,  0,  0,  0],\n",
       "       [ 3,  4,  2, ...,  0,  0,  0],\n",
       "       [ 0,  0,  0, ...,  0,  0,  0],\n",
       "       ...,\n",
       "       [ 3,  4,  2, ...,  0,  0,  0],\n",
       "       [13,  8, 10, ...,  0,  0,  0],\n",
       "       [ 3,  4,  2, ...,  0,  0,  0]])"
      ]
     },
     "execution_count": 64,
     "metadata": {},
     "output_type": "execute_result"
    }
   ],
   "source": [
    "input_vec3_cumF99 = input_vec3[:,:x0]\n",
    "print(input_vec3_cumF99.shape)\n",
    "input_vec3_cumF99"
   ]
  },
  {
   "cell_type": "code",
   "execution_count": 65,
   "id": "a3617157",
   "metadata": {},
   "outputs": [
    {
     "name": "stdout",
     "output_type": "stream",
     "text": [
      "(5794, 12)\n"
     ]
    },
    {
     "data": {
      "text/plain": [
       "array([[ 38,  36,  49, ..., 656,   0,   0],\n",
       "       [  3,   4,   2, ...,   0,   0,   0],\n",
       "       [  0,   0,   0, ...,   0,   0,   0],\n",
       "       ...,\n",
       "       [  3,   4,   2, ...,   0,   0,   0],\n",
       "       [ 13,   8,  10, ...,   0,   0,   0],\n",
       "       [  3,   4,   2, ...,   0,   0,   0]])"
      ]
     },
     "execution_count": 65,
     "metadata": {},
     "output_type": "execute_result"
    }
   ],
   "source": [
    "input_vec3_cumF95 = input_vec3[:,:x1]\n",
    "print(input_vec3_cumF95.shape)\n",
    "input_vec3_cumF95"
   ]
  },
  {
   "cell_type": "code",
   "execution_count": 66,
   "id": "07115295",
   "metadata": {},
   "outputs": [
    {
     "name": "stdout",
     "output_type": "stream",
     "text": [
      "(5794, 9)\n"
     ]
    },
    {
     "data": {
      "text/plain": [
       "array([[ 38,  36,  49, ...,  44,   1, 655],\n",
       "       [  3,   4,   2, ...,   7,   0,   0],\n",
       "       [  0,   0,   0, ...,   0,   0,   0],\n",
       "       ...,\n",
       "       [  3,   4,   2, ...,   7,   0,   0],\n",
       "       [ 13,   8,  10, ...,   2,  11,   9],\n",
       "       [  3,   4,   2, ...,   7,   0,   0]])"
      ]
     },
     "execution_count": 66,
     "metadata": {},
     "output_type": "execute_result"
    }
   ],
   "source": [
    "input_vec3_cumF90 = input_vec3[:,:x2]\n",
    "print(input_vec3_cumF90.shape)\n",
    "input_vec3_cumF90"
   ]
  },
  {
   "cell_type": "markdown",
   "id": "faca48ba",
   "metadata": {},
   "source": [
    "# 4. word2vec: History of Present Illness"
   ]
  },
  {
   "cell_type": "code",
   "execution_count": 85,
   "id": "8197c46e",
   "metadata": {},
   "outputs": [],
   "source": [
    "col = \"History of Present Illness\"\n",
    "sentences_maxlength = 10000"
   ]
  },
  {
   "cell_type": "code",
   "execution_count": 86,
   "id": "09053699",
   "metadata": {},
   "outputs": [
    {
     "name": "stdout",
     "output_type": "stream",
     "text": [
      "(5795, 10000)\n"
     ]
    },
    {
     "data": {
      "text/plain": [
       "array([[ 182, 1733,  119, ...,    0,    0,    0],\n",
       "       [ 168,  168,  168, ...,    0,    0,    0],\n",
       "       [ 182, 1197,  119, ...,    0,    0,    0],\n",
       "       ...,\n",
       "       [ 168,  168,  168, ...,    0,    0,    0],\n",
       "       [ 182, 1197,  119, ...,    0,    0,    0],\n",
       "       [ 168,  168,  168, ...,    0,    0,    0]])"
      ]
     },
     "execution_count": 86,
     "metadata": {},
     "output_type": "execute_result"
    }
   ],
   "source": [
    "sentences = df2[col].fillna(\"\").values.tolist()\n",
    "encoding = tokenizer(sentences, \n",
    "                     add_special_tokens=False, \n",
    "                     return_tensors='tf', \n",
    "                     padding='max_length', \n",
    "                     truncation=True, \n",
    "                     max_length=sentences_maxlength)\n",
    "\n",
    "input_ids = encoding['input_ids']\n",
    "input_ids4 = input_ids.numpy()\n",
    "print(input_ids4.shape)\n",
    "input_ids4"
   ]
  },
  {
   "cell_type": "code",
   "execution_count": 87,
   "id": "9f16dd4e",
   "metadata": {},
   "outputs": [
    {
     "name": "stdout",
     "output_type": "stream",
     "text": [
      "最长的tokens为3698个词汇或单词。\n"
     ]
    },
    {
     "data": {
      "image/png": "[encoded data removed]",
      "text/plain": [
       "<Figure size 540x324 with 1 Axes>"
      ]
     },
     "metadata": {
      "needs_background": "light"
     },
     "output_type": "display_data"
    }
   ],
   "source": [
    "counts = np.count_nonzero(input_ids4, axis=1)\n",
    "x0,x1,x2 = count_freq(col, counts)"
   ]
  },
  {
   "cell_type": "code",
   "execution_count": 70,
   "id": "b0af5417",
   "metadata": {},
   "outputs": [
    {
     "name": "stdout",
     "output_type": "stream",
     "text": [
      "(5794, 1178)\n"
     ]
    },
    {
     "data": {
      "text/plain": [
       "array([[1142, 1110,  170, ...,    0,    0,    0],\n",
       "       [ 168,  168,  168, ...,    0,    0,    0],\n",
       "       [   0,    0,    0, ...,    0,    0,    0],\n",
       "       ...,\n",
       "       [5351, 1110,  170, ...,    0,    0,    0],\n",
       "       [ 182, 1197,  119, ...,    0,    0,    0],\n",
       "       [ 168,  168,  168, ...,    0,    0,    0]])"
      ]
     },
     "execution_count": 70,
     "metadata": {},
     "output_type": "execute_result"
    }
   ],
   "source": [
    "input_ids4_cumF99 = input_ids4[:,:x0]\n",
    "print(input_ids4_cumF99.shape)\n",
    "input_ids4_cumF99"
   ]
  },
  {
   "cell_type": "code",
   "execution_count": 71,
   "id": "2ed46570",
   "metadata": {},
   "outputs": [
    {
     "name": "stdout",
     "output_type": "stream",
     "text": [
      "(5794, 887)\n"
     ]
    },
    {
     "data": {
      "text/plain": [
       "array([[1142, 1110,  170, ...,    0,    0,    0],\n",
       "       [ 168,  168,  168, ...,    0,    0,    0],\n",
       "       [   0,    0,    0, ...,    0,    0,    0],\n",
       "       ...,\n",
       "       [5351, 1110,  170, ..., 1679, 6857, 1182],\n",
       "       [ 182, 1197,  119, ...,    0,    0,    0],\n",
       "       [ 168,  168,  168, ...,    0,    0,    0]])"
      ]
     },
     "execution_count": 71,
     "metadata": {},
     "output_type": "execute_result"
    }
   ],
   "source": [
    "input_ids4_cumF95 = input_ids4[:,:x1]\n",
    "print(input_ids4_cumF95.shape)\n",
    "input_ids4_cumF95"
   ]
  },
  {
   "cell_type": "code",
   "execution_count": 72,
   "id": "207b0c09",
   "metadata": {},
   "outputs": [
    {
     "name": "stdout",
     "output_type": "stream",
     "text": [
      "(5794, 752)\n"
     ]
    },
    {
     "data": {
      "text/plain": [
       "array([[ 1142,  1110,   170, ...,     0,     0,     0],\n",
       "       [  168,   168,   168, ...,     0,     0,     0],\n",
       "       [    0,     0,     0, ...,     0,     0,     0],\n",
       "       ...,\n",
       "       [ 5351,  1110,   170, ...,   172, 11470, 19091],\n",
       "       [  182,  1197,   119, ...,     0,     0,     0],\n",
       "       [  168,   168,   168, ...,     0,     0,     0]])"
      ]
     },
     "execution_count": 72,
     "metadata": {},
     "output_type": "execute_result"
    }
   ],
   "source": [
    "input_ids4_cumF90 = input_ids4[:,:x2]\n",
    "print(input_ids4_cumF90.shape)\n",
    "input_ids4_cumF90"
   ]
  },
  {
   "cell_type": "code",
   "execution_count": 73,
   "id": "c782fc29",
   "metadata": {},
   "outputs": [],
   "source": [
    "# 2 Preparing word2vec for the LSTM"
   ]
  },
  {
   "cell_type": "code",
   "execution_count": 74,
   "id": "bde8e797",
   "metadata": {},
   "outputs": [
    {
     "name": "stdout",
     "output_type": "stream",
     "text": [
      "There are 24326 unique words in the texts.\n"
     ]
    }
   ],
   "source": [
    "texts = df2[col].fillna(\"\").values.tolist()\n",
    "texts = add_space_around_punctuation(texts)\n",
    "unique_words = set()\n",
    "\n",
    "for text in texts:\n",
    "\n",
    "    words = text.split()\n",
    "    unique_words.update(words)\n",
    "\n",
    "unique_word_count = len(unique_words)\n",
    "print(f'There are {unique_word_count} unique words in the texts.')"
   ]
  },
  {
   "cell_type": "code",
   "execution_count": 75,
   "id": "aea307c7",
   "metadata": {},
   "outputs": [
    {
     "name": "stdout",
     "output_type": "stream",
     "text": [
      "(5794, 10000)\n"
     ]
    },
    {
     "data": {
      "text/plain": [
       "array([[ 37,  20,  12, ...,   0,   0,   0],\n",
       "       [  1,   1,   1, ...,   0,   0,   0],\n",
       "       [  0,   0,   0, ...,   0,   0,   0],\n",
       "       ...,\n",
       "       [ 26,  20,  12, ...,   0,   0,   0],\n",
       "       [170,   2,   1, ...,   0,   0,   0],\n",
       "       [  1,   1,   1, ...,   0,   0,   0]])"
      ]
     },
     "execution_count": 75,
     "metadata": {},
     "output_type": "execute_result"
    }
   ],
   "source": [
    "max_fatures = int(unique_word_count*1) \n",
    "tokenizer4 = Tokenizer(num_words=max_fatures, filters='', split=' ')\n",
    "tokenizer4.fit_on_texts(texts)\n",
    "\n",
    "# texts to sequences\n",
    "text_vec = tokenizer4.texts_to_sequences(texts)\n",
    "\n",
    "input_vec4 = pad_sequences(text_vec, padding='post', maxlen=sentences_maxlength)\n",
    "print(input_vec4.shape)\n",
    "input_vec4"
   ]
  },
  {
   "cell_type": "code",
   "execution_count": 76,
   "id": "7570bc00",
   "metadata": {},
   "outputs": [
    {
     "name": "stdout",
     "output_type": "stream",
     "text": [
      "最长的tokens为2873个词汇或单词。\n"
     ]
    },
    {
     "data": {
      "image/png": "[encoded data removed]",
      "text/plain": [
       "<Figure size 360x216 with 1 Axes>"
      ]
     },
     "metadata": {
      "needs_background": "light"
     },
     "output_type": "display_data"
    }
   ],
   "source": [
    "counts = np.count_nonzero(input_vec4, axis=1)\n",
    "x0,x1,x2 = count_freq(col, counts)"
   ]
  },
  {
   "cell_type": "code",
   "execution_count": 77,
   "id": "b8a88bfb",
   "metadata": {},
   "outputs": [
    {
     "name": "stdout",
     "output_type": "stream",
     "text": [
      "(5794, 959)\n"
     ]
    },
    {
     "data": {
      "text/plain": [
       "array([[ 37,  20,  12, ...,   0,   0,   0],\n",
       "       [  1,   1,   1, ...,   0,   0,   0],\n",
       "       [  0,   0,   0, ...,   0,   0,   0],\n",
       "       ...,\n",
       "       [ 26,  20,  12, ...,   0,   0,   0],\n",
       "       [170,   2,   1, ...,   0,   0,   0],\n",
       "       [  1,   1,   1, ...,   0,   0,   0]])"
      ]
     },
     "execution_count": 77,
     "metadata": {},
     "output_type": "execute_result"
    }
   ],
   "source": [
    "input_vec4_cumF99 = input_vec4[:,:x0]\n",
    "print(input_vec4_cumF99.shape)\n",
    "input_vec4_cumF99"
   ]
  },
  {
   "cell_type": "code",
   "execution_count": 78,
   "id": "8d7a20dd",
   "metadata": {},
   "outputs": [
    {
     "name": "stdout",
     "output_type": "stream",
     "text": [
      "(5794, 727)\n"
     ]
    },
    {
     "data": {
      "text/plain": [
       "array([[ 37,  20,  12, ...,   0,   0,   0],\n",
       "       [  1,   1,   1, ...,   0,   0,   0],\n",
       "       [  0,   0,   0, ...,   0,   0,   0],\n",
       "       ...,\n",
       "       [ 26,  20,  12, ...,   2,  30, 555],\n",
       "       [170,   2,   1, ...,   0,   0,   0],\n",
       "       [  1,   1,   1, ...,   0,   0,   0]])"
      ]
     },
     "execution_count": 78,
     "metadata": {},
     "output_type": "execute_result"
    }
   ],
   "source": [
    "input_vec4_cumF95 = input_vec4[:,:x1]\n",
    "print(input_vec4_cumF95.shape)\n",
    "input_vec4_cumF95"
   ]
  },
  {
   "cell_type": "code",
   "execution_count": 79,
   "id": "e3936f3b",
   "metadata": {},
   "outputs": [
    {
     "name": "stdout",
     "output_type": "stream",
     "text": [
      "(5794, 618)\n"
     ]
    },
    {
     "data": {
      "text/plain": [
       "array([[  37,   20,   12, ...,    0,    0,    0],\n",
       "       [   1,    1,    1, ...,    0,    0,    0],\n",
       "       [   0,    0,    0, ...,    0,    0,    0],\n",
       "       ...,\n",
       "       [  26,   20,   12, ..., 1752,   16, 1205],\n",
       "       [ 170,    2,    1, ...,    0,    0,    0],\n",
       "       [   1,    1,    1, ...,    0,    0,    0]])"
      ]
     },
     "execution_count": 79,
     "metadata": {},
     "output_type": "execute_result"
    }
   ],
   "source": [
    "input_vec4_cumF90 = input_vec4[:,:x2]\n",
    "print(input_vec4_cumF90.shape)\n",
    "input_vec4_cumF90"
   ]
  },
  {
   "cell_type": "markdown",
   "id": "e3a38731",
   "metadata": {},
   "source": [
    "# 5. word2ver: Past Medical History"
   ]
  },
  {
   "cell_type": "code",
   "execution_count": 88,
   "id": "e01b42ff",
   "metadata": {},
   "outputs": [],
   "source": [
    "col = \"Past Medical History\"\n",
    "sentences_maxlength = 9055"
   ]
  },
  {
   "cell_type": "code",
   "execution_count": 89,
   "id": "84b00648",
   "metadata": {},
   "outputs": [
    {
     "name": "stdout",
     "output_type": "stream",
     "text": [
      "(5795, 9055)\n"
     ]
    },
    {
     "data": {
      "text/plain": [
       "array([[ 2967,   188, 10536, ...,     0,     0,     0],\n",
       "       [  122,   119, 21718, ...,     0,     0,     0],\n",
       "       [20844,  6575,  1233, ...,     0,     0,     0],\n",
       "       ...,\n",
       "       [  118, 23078,  1228, ...,     0,     0,     0],\n",
       "       [ 1763,  1113,  2528, ...,     0,     0,     0],\n",
       "       [10468,  1329,  8936, ...,     0,     0,     0]])"
      ]
     },
     "execution_count": 89,
     "metadata": {},
     "output_type": "execute_result"
    }
   ],
   "source": [
    "sentences = df2[col].fillna(\"\").values.tolist()\n",
    "encoding = tokenizer(sentences, \n",
    "                     add_special_tokens=False, \n",
    "                     return_tensors='tf', \n",
    "                     padding='max_length', \n",
    "                     truncation=True, \n",
    "                     max_length=sentences_maxlength)\n",
    "\n",
    "input_ids = encoding['input_ids']\n",
    "input_ids5 = input_ids.numpy()\n",
    "print(input_ids5.shape)\n",
    "input_ids5"
   ]
  },
  {
   "cell_type": "code",
   "execution_count": 90,
   "id": "8d9e1a29",
   "metadata": {},
   "outputs": [
    {
     "name": "stdout",
     "output_type": "stream",
     "text": [
      "最长的tokens为2643个词汇或单词。\n"
     ]
    },
    {
     "data": {
      "image/png": "[encoded data removed]",
      "text/plain": [
       "<Figure size 540x324 with 1 Axes>"
      ]
     },
     "metadata": {
      "needs_background": "light"
     },
     "output_type": "display_data"
    }
   ],
   "source": [
    "counts = np.count_nonzero(input_ids5, axis=1)\n",
    "x0,x1,x2 = count_freq(col, counts)"
   ]
  },
  {
   "cell_type": "code",
   "execution_count": 83,
   "id": "3a13b34c",
   "metadata": {},
   "outputs": [
    {
     "name": "stdout",
     "output_type": "stream",
     "text": [
      "(5794, 1199)\n"
     ]
    },
    {
     "data": {
      "text/plain": [
       "array([[  118,   118, 27154, ...,     0,     0,     0],\n",
       "       [ 2075,  7560,     0, ...,     0,     0,     0],\n",
       "       [    0,     0,     0, ...,     0,     0,     0],\n",
       "       ...,\n",
       "       [20844,  1964,   120, ...,     0,     0,     0],\n",
       "       [  118,   183,  1116, ...,     0,     0,     0],\n",
       "       [ 9852,  1324,  1775, ...,     0,     0,     0]])"
      ]
     },
     "execution_count": 83,
     "metadata": {},
     "output_type": "execute_result"
    }
   ],
   "source": [
    "input_ids5_cumF99 = input_ids5[:,:x0]\n",
    "print(input_ids5_cumF99.shape)\n",
    "input_ids5_cumF99"
   ]
  },
  {
   "cell_type": "code",
   "execution_count": 84,
   "id": "c6983f8d",
   "metadata": {},
   "outputs": [
    {
     "name": "stdout",
     "output_type": "stream",
     "text": [
      "(5794, 533)\n"
     ]
    },
    {
     "data": {
      "text/plain": [
       "array([[  118,   118, 27154, ...,     0,     0,     0],\n",
       "       [ 2075,  7560,     0, ...,     0,     0,     0],\n",
       "       [    0,     0,     0, ...,     0,     0,     0],\n",
       "       ...,\n",
       "       [20844,  1964,   120, ...,     0,     0,     0],\n",
       "       [  118,   183,  1116, ...,     0,     0,     0],\n",
       "       [ 9852,  1324,  1775, ...,     0,     0,     0]])"
      ]
     },
     "execution_count": 84,
     "metadata": {},
     "output_type": "execute_result"
    }
   ],
   "source": [
    "input_ids5_cumF95 = input_ids5[:,:x1]\n",
    "print(input_ids5_cumF95.shape)\n",
    "input_ids5_cumF95"
   ]
  },
  {
   "cell_type": "code",
   "execution_count": 85,
   "id": "29c6129b",
   "metadata": {},
   "outputs": [
    {
     "name": "stdout",
     "output_type": "stream",
     "text": [
      "(5794, 312)\n"
     ]
    },
    {
     "data": {
      "text/plain": [
       "array([[  118,   118, 27154, ...,     0,     0,     0],\n",
       "       [ 2075,  7560,     0, ...,     0,     0,     0],\n",
       "       [    0,     0,     0, ...,     0,     0,     0],\n",
       "       ...,\n",
       "       [20844,  1964,   120, ...,     0,     0,     0],\n",
       "       [  118,   183,  1116, ...,     0,     0,     0],\n",
       "       [ 9852,  1324,  1775, ...,     0,     0,     0]])"
      ]
     },
     "execution_count": 85,
     "metadata": {},
     "output_type": "execute_result"
    }
   ],
   "source": [
    "input_ids5_cumF90 = input_ids5[:,:x2]\n",
    "print(input_ids5_cumF90.shape)\n",
    "input_ids5_cumF90"
   ]
  },
  {
   "cell_type": "code",
   "execution_count": 86,
   "id": "81f67abd",
   "metadata": {},
   "outputs": [],
   "source": [
    "# 2 Preparing word2vec for the LSTM"
   ]
  },
  {
   "cell_type": "code",
   "execution_count": 87,
   "id": "e20c030b",
   "metadata": {},
   "outputs": [
    {
     "name": "stdout",
     "output_type": "stream",
     "text": [
      "There are 14357 unique words in the texts.\n"
     ]
    }
   ],
   "source": [
    "texts = df2[col].fillna(\"\").values.tolist()\n",
    "texts = add_space_around_punctuation(texts)\n",
    "\n",
    "unique_words = set()\n",
    "\n",
    "for text in texts:\n",
    "\n",
    "    words = text.split()\n",
    "\n",
    "    unique_words.update(words)\n",
    "\n",
    "unique_word_count = len(unique_words)\n",
    "print(f'There are {unique_word_count} unique words in the texts.')"
   ]
  },
  {
   "cell_type": "code",
   "execution_count": 88,
   "id": "82a9e364",
   "metadata": {},
   "outputs": [
    {
     "name": "stdout",
     "output_type": "stream",
     "text": [
      "(5794, 9055)\n"
     ]
    },
    {
     "data": {
      "text/plain": [
       "array([[   2,    2,  181, ...,    0,    0,    0],\n",
       "       [2580,   48,    0, ...,    0,    0,    0],\n",
       "       [   0,    0,    0, ...,    0,    0,    0],\n",
       "       ...,\n",
       "       [ 114,    5,  575, ...,    0,    0,    0],\n",
       "       [   2, 2664,    9, ...,    0,    0,    0],\n",
       "       [ 705,    8,  365, ...,    0,    0,    0]])"
      ]
     },
     "execution_count": 88,
     "metadata": {},
     "output_type": "execute_result"
    }
   ],
   "source": [
    "max_fatures = int(unique_word_count*1)\n",
    "tokenizer5 = Tokenizer(num_words=max_fatures, filters='', split=' ')\n",
    "tokenizer5.fit_on_texts(texts)\n",
    "\n",
    "# texts to sequences\n",
    "text_vec = tokenizer5.texts_to_sequences(texts)\n",
    "\n",
    "input_vec5 = pad_sequences(text_vec, padding='post', maxlen=sentences_maxlength)\n",
    "print(input_vec5.shape)\n",
    "input_vec5"
   ]
  },
  {
   "cell_type": "code",
   "execution_count": 89,
   "id": "d56cb209",
   "metadata": {},
   "outputs": [
    {
     "name": "stdout",
     "output_type": "stream",
     "text": [
      "最长的tokens为1935个词汇或单词。\n"
     ]
    },
    {
     "data": {
      "image/png": "[encoded data removed]",
      "text/plain": [
       "<Figure size 360x216 with 1 Axes>"
      ]
     },
     "metadata": {
      "needs_background": "light"
     },
     "output_type": "display_data"
    }
   ],
   "source": [
    "counts = np.count_nonzero(input_vec5, axis=1)\n",
    "x0,x1,x2 = count_freq(col, counts)"
   ]
  },
  {
   "cell_type": "code",
   "execution_count": 90,
   "id": "1f80de84",
   "metadata": {},
   "outputs": [
    {
     "name": "stdout",
     "output_type": "stream",
     "text": [
      "(5794, 870)\n"
     ]
    },
    {
     "data": {
      "text/plain": [
       "array([[   2,    2,  181, ...,    0,    0,    0],\n",
       "       [2580,   48,    0, ...,    0,    0,    0],\n",
       "       [   0,    0,    0, ...,    0,    0,    0],\n",
       "       ...,\n",
       "       [ 114,    5,  575, ...,    0,    0,    0],\n",
       "       [   2, 2664,    9, ...,    0,    0,    0],\n",
       "       [ 705,    8,  365, ...,    0,    0,    0]])"
      ]
     },
     "execution_count": 90,
     "metadata": {},
     "output_type": "execute_result"
    }
   ],
   "source": [
    "input_vec5_cumF99 = input_vec5[:,:x0]\n",
    "print(input_vec5_cumF99.shape)\n",
    "input_vec5_cumF99"
   ]
  },
  {
   "cell_type": "code",
   "execution_count": 91,
   "id": "b51b4a43",
   "metadata": {},
   "outputs": [
    {
     "name": "stdout",
     "output_type": "stream",
     "text": [
      "(5794, 383)\n"
     ]
    },
    {
     "data": {
      "text/plain": [
       "array([[   2,    2,  181, ...,    0,    0,    0],\n",
       "       [2580,   48,    0, ...,    0,    0,    0],\n",
       "       [   0,    0,    0, ...,    0,    0,    0],\n",
       "       ...,\n",
       "       [ 114,    5,  575, ...,    0,    0,    0],\n",
       "       [   2, 2664,    9, ...,    0,    0,    0],\n",
       "       [ 705,    8,  365, ...,    0,    0,    0]])"
      ]
     },
     "execution_count": 91,
     "metadata": {},
     "output_type": "execute_result"
    }
   ],
   "source": [
    "input_vec5_cumF95 = input_vec5[:,:x1]\n",
    "print(input_vec5_cumF95.shape)\n",
    "input_vec5_cumF95"
   ]
  },
  {
   "cell_type": "code",
   "execution_count": 92,
   "id": "e8baeea0",
   "metadata": {},
   "outputs": [
    {
     "name": "stdout",
     "output_type": "stream",
     "text": [
      "(5794, 226)\n"
     ]
    },
    {
     "data": {
      "text/plain": [
       "array([[   2,    2,  181, ...,    0,    0,    0],\n",
       "       [2580,   48,    0, ...,    0,    0,    0],\n",
       "       [   0,    0,    0, ...,    0,    0,    0],\n",
       "       ...,\n",
       "       [ 114,    5,  575, ...,    0,    0,    0],\n",
       "       [   2, 2664,    9, ...,    0,    0,    0],\n",
       "       [ 705,    8,  365, ...,    0,    0,    0]])"
      ]
     },
     "execution_count": 92,
     "metadata": {},
     "output_type": "execute_result"
    }
   ],
   "source": [
    "input_vec5_cumF90 = input_vec5[:,:x2]\n",
    "print(input_vec5_cumF90.shape)\n",
    "input_vec5_cumF90"
   ]
  },
  {
   "cell_type": "markdown",
   "id": "c6b5d9c0",
   "metadata": {},
   "source": [
    "# 6. word2vec: Family History"
   ]
  },
  {
   "cell_type": "code",
   "execution_count": 91,
   "id": "ae70314b",
   "metadata": {},
   "outputs": [],
   "source": [
    "col = \"Family History\"\n",
    "sentences_maxlength = 10000"
   ]
  },
  {
   "cell_type": "code",
   "execution_count": 92,
   "id": "b217c9ad",
   "metadata": {},
   "outputs": [
    {
     "name": "stdout",
     "output_type": "stream",
     "text": [
      "(5795, 10000)\n"
     ]
    },
    {
     "data": {
      "text/plain": [
       "array([[ 1534,  1114, 13316, ...,     0,     0,     0],\n",
       "       [ 1534,   131,   168, ...,     0,     0,     0],\n",
       "       [ 1119,  1144,  1185, ...,     0,     0,     0],\n",
       "       ...,\n",
       "       [ 1401,  1452,  1104, ...,     0,     0,     0],\n",
       "       [ 1401,  1125,  5250, ...,     0,     0,     0],\n",
       "       [  118,  1632,  7502, ...,     0,     0,     0]])"
      ]
     },
     "execution_count": 92,
     "metadata": {},
     "output_type": "execute_result"
    }
   ],
   "source": [
    "sentences = df2[col].fillna(\"\").values.tolist()\n",
    "encoding = tokenizer(sentences, \n",
    "                     add_special_tokens=False, \n",
    "                     return_tensors='tf', \n",
    "                     padding='max_length', \n",
    "                     truncation=True, \n",
    "                     max_length=sentences_maxlength)\n",
    "\n",
    "input_ids = encoding['input_ids']\n",
    "input_ids6 = input_ids.numpy()\n",
    "print(input_ids6.shape)\n",
    "input_ids6"
   ]
  },
  {
   "cell_type": "code",
   "execution_count": 93,
   "id": "83ec8e07",
   "metadata": {},
   "outputs": [
    {
     "name": "stdout",
     "output_type": "stream",
     "text": [
      "最长的tokens为8265个词汇或单词。\n"
     ]
    },
    {
     "data": {
      "image/png": "[encoded data removed]",
      "text/plain": [
       "<Figure size 540x324 with 1 Axes>"
      ]
     },
     "metadata": {
      "needs_background": "light"
     },
     "output_type": "display_data"
    }
   ],
   "source": [
    "counts = np.count_nonzero(input_ids6, axis=1)\n",
    "x0,x1,x2 = count_freq(col, counts)"
   ]
  },
  {
   "cell_type": "code",
   "execution_count": 96,
   "id": "070abfd1",
   "metadata": {},
   "outputs": [
    {
     "name": "stdout",
     "output_type": "stream",
     "text": [
      "(5794, 2202)\n"
     ]
    },
    {
     "data": {
      "text/plain": [
       "array([[1117, 1266, 1607, ...,    0,    0,    0],\n",
       "       [1534, 1452, 1104, ...,    0,    0,    0],\n",
       "       [   0,    0,    0, ...,    0,    0,    0],\n",
       "       ...,\n",
       "       [7815,  117, 3655, ...,    0,    0,    0],\n",
       "       [ 116,  173, 1306, ...,    0,    0,    0],\n",
       "       [1266,  177, 1775, ...,    0,    0,    0]])"
      ]
     },
     "execution_count": 96,
     "metadata": {},
     "output_type": "execute_result"
    }
   ],
   "source": [
    "input_ids6_cumF99 = input_ids6[:,:x0]\n",
    "print(input_ids6_cumF99.shape)\n",
    "input_ids6_cumF99"
   ]
  },
  {
   "cell_type": "code",
   "execution_count": 97,
   "id": "e2257d0f",
   "metadata": {},
   "outputs": [
    {
     "name": "stdout",
     "output_type": "stream",
     "text": [
      "(5794, 75)\n"
     ]
    },
    {
     "data": {
      "text/plain": [
       "array([[1117, 1266, 1607, ...,    0,    0,    0],\n",
       "       [1534, 1452, 1104, ...,    0,    0,    0],\n",
       "       [   0,    0,    0, ...,    0,    0,    0],\n",
       "       ...,\n",
       "       [7815,  117, 3655, ...,    0,    0,    0],\n",
       "       [ 116,  173, 1306, ...,    0,    0,    0],\n",
       "       [1266,  177, 1775, ...,    0,    0,    0]])"
      ]
     },
     "execution_count": 97,
     "metadata": {},
     "output_type": "execute_result"
    }
   ],
   "source": [
    "input_ids6_cumF95 = input_ids6[:,:x1]\n",
    "print(input_ids6_cumF95.shape)\n",
    "input_ids6_cumF95"
   ]
  },
  {
   "cell_type": "code",
   "execution_count": 98,
   "id": "ca879578",
   "metadata": {},
   "outputs": [
    {
     "name": "stdout",
     "output_type": "stream",
     "text": [
      "(5794, 56)\n"
     ]
    },
    {
     "data": {
      "text/plain": [
       "array([[1117, 1266, 1607, ...,    0,    0,    0],\n",
       "       [1534, 1452, 1104, ...,    0,    0,    0],\n",
       "       [   0,    0,    0, ...,    0,    0,    0],\n",
       "       ...,\n",
       "       [7815,  117, 3655, ...,    0,    0,    0],\n",
       "       [ 116,  173, 1306, ...,    0,    0,    0],\n",
       "       [1266,  177, 1775, ...,    0,    0,    0]])"
      ]
     },
     "execution_count": 98,
     "metadata": {},
     "output_type": "execute_result"
    }
   ],
   "source": [
    "input_ids6_cumF90 = input_ids6[:,:x2]\n",
    "print(input_ids6_cumF90.shape)\n",
    "input_ids6_cumF90"
   ]
  },
  {
   "cell_type": "code",
   "execution_count": 87,
   "id": "1653e1dc",
   "metadata": {},
   "outputs": [],
   "source": [
    "# 2 Preparing word2vec for the LSTM"
   ]
  },
  {
   "cell_type": "code",
   "execution_count": 99,
   "id": "6a4fa834",
   "metadata": {},
   "outputs": [
    {
     "name": "stdout",
     "output_type": "stream",
     "text": [
      "There are 9336 unique words in the texts.\n"
     ]
    }
   ],
   "source": [
    "texts = df2[col].fillna(\"\").values.tolist()\n",
    "texts = add_space_around_punctuation(texts)\n",
    "\n",
    "unique_words = set()\n",
    "\n",
    "for text in texts:\n",
    "    words = text.split()\n",
    "    unique_words.update(words)\n",
    "\n",
    "unique_word_count = len(unique_words)\n",
    "print(f'There are {unique_word_count} unique words in the texts.')"
   ]
  },
  {
   "cell_type": "code",
   "execution_count": 100,
   "id": "41bb0c1a",
   "metadata": {},
   "outputs": [
    {
     "name": "stdout",
     "output_type": "stream",
     "text": [
      "(5794, 10000)\n"
     ]
    },
    {
     "data": {
      "text/plain": [
       "array([[ 41,  25,  20, ...,   0,   0,   0],\n",
       "       [ 14,  26,   6, ...,   0,   0,   0],\n",
       "       [  0,   0,   0, ...,   0,   0,   0],\n",
       "       ...,\n",
       "       [611,   4,  78, ...,   0,   0,   0],\n",
       "       [ 93,  72,  12, ...,   0,   0,   0],\n",
       "       [ 25, 134,   5, ...,   0,   0,   0]])"
      ]
     },
     "execution_count": 100,
     "metadata": {},
     "output_type": "execute_result"
    }
   ],
   "source": [
    "max_fatures = int(unique_word_count*1)\n",
    "tokenizer6 = Tokenizer(num_words=max_fatures, filters='', split=' ')\n",
    "tokenizer6.fit_on_texts(texts)\n",
    "\n",
    "# texts to sequences\n",
    "text_vec = tokenizer6.texts_to_sequences(texts)\n",
    "\n",
    "input_vec6 = pad_sequences(text_vec, padding='post', maxlen=sentences_maxlength)\n",
    "print(input_vec6.shape)\n",
    "input_vec6"
   ]
  },
  {
   "cell_type": "code",
   "execution_count": 101,
   "id": "aad99300",
   "metadata": {},
   "outputs": [
    {
     "name": "stdout",
     "output_type": "stream",
     "text": [
      "最长的tokens为6347个词汇或单词。\n"
     ]
    },
    {
     "data": {
      "image/png": "[encoded data removed]",
      "text/plain": [
       "<Figure size 360x216 with 1 Axes>"
      ]
     },
     "metadata": {
      "needs_background": "light"
     },
     "output_type": "display_data"
    }
   ],
   "source": [
    "counts = np.count_nonzero(input_vec6, axis=1)\n",
    "x0,x1,x2 = count_freq(col, counts)"
   ]
  },
  {
   "cell_type": "code",
   "execution_count": 102,
   "id": "20cc619e",
   "metadata": {},
   "outputs": [
    {
     "name": "stdout",
     "output_type": "stream",
     "text": [
      "(5794, 1637)\n"
     ]
    },
    {
     "data": {
      "text/plain": [
       "array([[ 41,  25,  20, ...,   0,   0,   0],\n",
       "       [ 14,  26,   6, ...,   0,   0,   0],\n",
       "       [  0,   0,   0, ...,   0,   0,   0],\n",
       "       ...,\n",
       "       [611,   4,  78, ...,   0,   0,   0],\n",
       "       [ 93,  72,  12, ...,   0,   0,   0],\n",
       "       [ 25, 134,   5, ...,   0,   0,   0]])"
      ]
     },
     "execution_count": 102,
     "metadata": {},
     "output_type": "execute_result"
    }
   ],
   "source": [
    "input_vec6_cumF99 = input_vec6[:,:x0]\n",
    "print(input_vec6_cumF99.shape)\n",
    "input_vec6_cumF99"
   ]
  },
  {
   "cell_type": "code",
   "execution_count": 103,
   "id": "f106c0ed",
   "metadata": {},
   "outputs": [
    {
     "name": "stdout",
     "output_type": "stream",
     "text": [
      "(5794, 64)\n"
     ]
    },
    {
     "data": {
      "text/plain": [
       "array([[ 41,  25,  20, ...,   0,   0,   0],\n",
       "       [ 14,  26,   6, ...,   0,   0,   0],\n",
       "       [  0,   0,   0, ...,   0,   0,   0],\n",
       "       ...,\n",
       "       [611,   4,  78, ...,   0,   0,   0],\n",
       "       [ 93,  72,  12, ...,   0,   0,   0],\n",
       "       [ 25, 134,   5, ...,   0,   0,   0]])"
      ]
     },
     "execution_count": 103,
     "metadata": {},
     "output_type": "execute_result"
    }
   ],
   "source": [
    "input_vec6_cumF95 = input_vec6[:,:x1]\n",
    "print(input_vec6_cumF95.shape)\n",
    "input_vec6_cumF95"
   ]
  },
  {
   "cell_type": "code",
   "execution_count": 104,
   "id": "3d081151",
   "metadata": {},
   "outputs": [
    {
     "name": "stdout",
     "output_type": "stream",
     "text": [
      "(5794, 47)\n"
     ]
    },
    {
     "data": {
      "text/plain": [
       "array([[ 41,  25,  20, ...,   0,   0,   0],\n",
       "       [ 14,  26,   6, ...,   0,   0,   0],\n",
       "       [  0,   0,   0, ...,   0,   0,   0],\n",
       "       ...,\n",
       "       [611,   4,  78, ...,   0,   0,   0],\n",
       "       [ 93,  72,  12, ...,   0,   0,   0],\n",
       "       [ 25, 134,   5, ...,   0,   0,   0]])"
      ]
     },
     "execution_count": 104,
     "metadata": {},
     "output_type": "execute_result"
    }
   ],
   "source": [
    "input_vec6_cumF90 = input_vec6[:,:x2]\n",
    "print(input_vec6_cumF90.shape)\n",
    "input_vec6_cumF90"
   ]
  },
  {
   "cell_type": "markdown",
   "id": "3a9fea9f",
   "metadata": {},
   "source": [
    "# Merge Chief Complaint"
   ]
  },
  {
   "cell_type": "code",
   "execution_count": 107,
   "id": "3075fe10",
   "metadata": {},
   "outputs": [
    {
     "data": {
      "text/html": [
       "<div>\n",
       "<style scoped>\n",
       "    .dataframe tbody tr th:only-of-type {\n",
       "        vertical-align: middle;\n",
       "    }\n",
       "\n",
       "    .dataframe tbody tr th {\n",
       "        vertical-align: top;\n",
       "    }\n",
       "\n",
       "    .dataframe thead th {\n",
       "        text-align: right;\n",
       "    }\n",
       "</style>\n",
       "<table border=\"1\" class=\"dataframe\">\n",
       "  <thead>\n",
       "    <tr style=\"text-align: right;\">\n",
       "      <th></th>\n",
       "      <th>hospital_expire_flag</th>\n",
       "    </tr>\n",
       "  </thead>\n",
       "  <tbody>\n",
       "    <tr>\n",
       "      <th>0</th>\n",
       "      <td>0</td>\n",
       "    </tr>\n",
       "    <tr>\n",
       "      <th>1</th>\n",
       "      <td>0</td>\n",
       "    </tr>\n",
       "    <tr>\n",
       "      <th>2</th>\n",
       "      <td>0</td>\n",
       "    </tr>\n",
       "    <tr>\n",
       "      <th>3</th>\n",
       "      <td>0</td>\n",
       "    </tr>\n",
       "    <tr>\n",
       "      <th>4</th>\n",
       "      <td>1</td>\n",
       "    </tr>\n",
       "    <tr>\n",
       "      <th>...</th>\n",
       "      <td>...</td>\n",
       "    </tr>\n",
       "    <tr>\n",
       "      <th>5789</th>\n",
       "      <td>0</td>\n",
       "    </tr>\n",
       "    <tr>\n",
       "      <th>5790</th>\n",
       "      <td>0</td>\n",
       "    </tr>\n",
       "    <tr>\n",
       "      <th>5791</th>\n",
       "      <td>0</td>\n",
       "    </tr>\n",
       "    <tr>\n",
       "      <th>5792</th>\n",
       "      <td>0</td>\n",
       "    </tr>\n",
       "    <tr>\n",
       "      <th>5793</th>\n",
       "      <td>1</td>\n",
       "    </tr>\n",
       "  </tbody>\n",
       "</table>\n",
       "<p>5794 rows × 1 columns</p>\n",
       "</div>"
      ],
      "text/plain": [
       "      hospital_expire_flag\n",
       "0                        0\n",
       "1                        0\n",
       "2                        0\n",
       "3                        0\n",
       "4                        1\n",
       "...                    ...\n",
       "5789                     0\n",
       "5790                     0\n",
       "5791                     0\n",
       "5792                     0\n",
       "5793                     1\n",
       "\n",
       "[5794 rows x 1 columns]"
      ]
     },
     "execution_count": 107,
     "metadata": {},
     "output_type": "execute_result"
    }
   ],
   "source": [
    "labels = df2[['hospital_expire_flag']]\n",
    "labels"
   ]
  },
  {
   "cell_type": "code",
   "execution_count": 108,
   "id": "86dbe3dc",
   "metadata": {},
   "outputs": [
    {
     "name": "stdout",
     "output_type": "stream",
     "text": [
      "(5794, 32)\n"
     ]
    },
    {
     "data": {
      "text/plain": [
       "array([[ 1260,  7889,  7412, ...,     0,     0,     0],\n",
       "       [ 4036,   117, 21718, ...,     0,     0,     0],\n",
       "       [16320,   117,  5173, ...,     0,     0,     0],\n",
       "       ...,\n",
       "       [10880,   117, 11477, ...,     0,     0,     0],\n",
       "       [20752,   119,     0, ...,     0,     0,     0],\n",
       "       [  170,  8178,  1126, ...,     0,     0,     1]], dtype=int64)"
      ]
     },
     "execution_count": 108,
     "metadata": {},
     "output_type": "execute_result"
    }
   ],
   "source": [
    "Bert_ChiefComplaint99 = np.concatenate([input_ids1_cumF99,labels], axis=1)\n",
    "print(Bert_ChiefComplaint99.shape)\n",
    "pd.DataFrame(Bert_ChiefComplaint99).to_csv(\"E:/CNSI_project/demo_and_data_5.0/Processed_data/MIMIC/aim2_merged_VecData/Bert_ChiefComplaint99.csv\",index=False)\n",
    "Bert_ChiefComplaint99"
   ]
  },
  {
   "cell_type": "code",
   "execution_count": 109,
   "id": "646a784f",
   "metadata": {},
   "outputs": [
    {
     "name": "stdout",
     "output_type": "stream",
     "text": [
      "(5794, 21)\n"
     ]
    },
    {
     "data": {
      "text/plain": [
       "array([[ 1260,  7889,  7412, ...,     0,     0,     0],\n",
       "       [ 4036,   117, 21718, ...,     0,     0,     0],\n",
       "       [16320,   117,  5173, ...,     0,     0,     0],\n",
       "       ...,\n",
       "       [10880,   117, 11477, ...,     0,     0,     0],\n",
       "       [20752,   119,     0, ...,     0,     0,     0],\n",
       "       [  170,  8178,  1126, ...,     0,     0,     1]], dtype=int64)"
      ]
     },
     "execution_count": 109,
     "metadata": {},
     "output_type": "execute_result"
    }
   ],
   "source": [
    "Bert_ChiefComplaint95 = np.concatenate([input_ids1_cumF95,labels], axis=1)\n",
    "print(Bert_ChiefComplaint95.shape)\n",
    "pd.DataFrame(Bert_ChiefComplaint95).to_csv(\"E:/CNSI_project/demo_and_data_5.0/Processed_data/MIMIC/aim2_merged_VecData/Bert_ChiefComplaint95.csv\",index=False)\n",
    "Bert_ChiefComplaint95"
   ]
  },
  {
   "cell_type": "code",
   "execution_count": 110,
   "id": "de3ffae0",
   "metadata": {},
   "outputs": [
    {
     "name": "stdout",
     "output_type": "stream",
     "text": [
      "(5794, 17)\n"
     ]
    },
    {
     "data": {
      "text/plain": [
       "array([[ 1260,  7889,  7412, ...,  1610, 16430,     0],\n",
       "       [ 4036,   117, 21718, ...,     0,     0,     0],\n",
       "       [16320,   117,  5173, ...,     0,     0,     0],\n",
       "       ...,\n",
       "       [10880,   117, 11477, ..., 23610,     0,     0],\n",
       "       [20752,   119,     0, ...,     0,     0,     0],\n",
       "       [  170,  8178,  1126, ...,     0,     0,     1]], dtype=int64)"
      ]
     },
     "execution_count": 110,
     "metadata": {},
     "output_type": "execute_result"
    }
   ],
   "source": [
    "Bert_ChiefComplaint90 = np.concatenate([input_ids1_cumF90,labels], axis=1)\n",
    "print(Bert_ChiefComplaint90.shape)\n",
    "pd.DataFrame(Bert_ChiefComplaint90).to_csv(\"E:/CNSI_project/demo_and_data_5.0/Processed_data/MIMIC/aim2_merged_VecData/Bert_ChiefComplaint90.csv\",index=False)\n",
    "Bert_ChiefComplaint90"
   ]
  },
  {
   "cell_type": "code",
   "execution_count": 111,
   "id": "2ed1ce1b",
   "metadata": {},
   "outputs": [
    {
     "name": "stdout",
     "output_type": "stream",
     "text": [
      "(5794, 24)\n"
     ]
    },
    {
     "data": {
      "text/plain": [
       "array([[462,   1,   7, ...,   0,   0,   0],\n",
       "       [ 12,   1,  54, ...,   0,   0,   0],\n",
       "       [  2,   1,  56, ...,   0,   0,   0],\n",
       "       ...,\n",
       "       [ 11,   1,   7, ...,   0,   0,   0],\n",
       "       [ 14,  13,   0, ...,   0,   0,   0],\n",
       "       [701, 146,  98, ...,   0,   0,   1]], dtype=int64)"
      ]
     },
     "execution_count": 111,
     "metadata": {},
     "output_type": "execute_result"
    }
   ],
   "source": [
    "# 用keras生成的vec，且概率累积在.99的长度\n",
    "Keras_ChiefComplaint99 = np.concatenate([input_vec1_cumF99,labels], axis=1)\n",
    "print(Keras_ChiefComplaint99.shape)\n",
    "pd.DataFrame(Keras_ChiefComplaint99).to_csv(\"E:/CNSI_project/demo_and_data_5.0/Processed_data/MIMIC/aim2_merged_VecData/Keras_ChiefComplaint99.csv\",index=False)\n",
    "Keras_ChiefComplaint99"
   ]
  },
  {
   "cell_type": "code",
   "execution_count": 112,
   "id": "0c805089",
   "metadata": {},
   "outputs": [
    {
     "name": "stdout",
     "output_type": "stream",
     "text": [
      "(5794, 15)\n"
     ]
    },
    {
     "data": {
      "text/plain": [
       "array([[462,   1,   7, ...,   0,   0,   0],\n",
       "       [ 12,   1,  54, ...,   0,   0,   0],\n",
       "       [  2,   1,  56, ...,   0,   0,   0],\n",
       "       ...,\n",
       "       [ 11,   1,   7, ...,   0,   0,   0],\n",
       "       [ 14,  13,   0, ...,   0,   0,   0],\n",
       "       [701, 146,  98, ...,   0,   0,   1]], dtype=int64)"
      ]
     },
     "execution_count": 112,
     "metadata": {},
     "output_type": "execute_result"
    }
   ],
   "source": [
    "Keras_ChiefComplaint95 = np.concatenate([input_vec1_cumF95,labels], axis=1)\n",
    "print(Keras_ChiefComplaint95.shape)\n",
    "pd.DataFrame(Keras_ChiefComplaint95).to_csv(\"E:/CNSI_project/demo_and_data_5.0/Processed_data/MIMIC/aim2_merged_VecData/Keras_ChiefComplaint95.csv\",index=False)\n",
    "Keras_ChiefComplaint95"
   ]
  },
  {
   "cell_type": "code",
   "execution_count": 113,
   "id": "ecf68fd8",
   "metadata": {},
   "outputs": [
    {
     "name": "stdout",
     "output_type": "stream",
     "text": [
      "(5794, 13)\n"
     ]
    },
    {
     "data": {
      "text/plain": [
       "array([[462,   1,   7, ...,  13,   0,   0],\n",
       "       [ 12,   1,  54, ...,   0,   0,   0],\n",
       "       [  2,   1,  56, ...,   0,   0,   0],\n",
       "       ...,\n",
       "       [ 11,   1,   7, ..., 139,   0,   0],\n",
       "       [ 14,  13,   0, ...,   0,   0,   0],\n",
       "       [701, 146,  98, ...,   0,   0,   1]], dtype=int64)"
      ]
     },
     "execution_count": 113,
     "metadata": {},
     "output_type": "execute_result"
    }
   ],
   "source": [
    "Keras_ChiefComplaint90 = np.concatenate([input_vec1_cumF90,labels], axis=1)\n",
    "print(Keras_ChiefComplaint90.shape)\n",
    "pd.DataFrame(Keras_ChiefComplaint90).to_csv(\"E:/CNSI_project/demo_and_data_5.0/Processed_data/MIMIC/aim2_merged_VecData/Keras_ChiefComplaint90.csv\",index=False)\n",
    "Keras_ChiefComplaint90"
   ]
  },
  {
   "cell_type": "markdown",
   "id": "cf6867e2",
   "metadata": {},
   "source": [
    "# Merge All six"
   ]
  },
  {
   "cell_type": "code",
   "execution_count": 114,
   "id": "9ae6907f",
   "metadata": {},
   "outputs": [
    {
     "name": "stdout",
     "output_type": "stream",
     "text": [
      "(5794, 5135)\n"
     ]
    },
    {
     "data": {
      "text/plain": [
       "array([[ 1260,  7889,  7412, ...,     0,     0,     0],\n",
       "       [ 4036,   117, 21718, ...,     0,     0,     0],\n",
       "       [16320,   117,  5173, ...,     0,     0,     0],\n",
       "       ...,\n",
       "       [10880,   117, 11477, ...,     0,     0,     0],\n",
       "       [20752,   119,     0, ...,     0,     0,     0],\n",
       "       [  170,  8178,  1126, ...,     0,     0,     1]], dtype=int64)"
      ]
     },
     "execution_count": 114,
     "metadata": {},
     "output_type": "execute_result"
    }
   ],
   "source": [
    "# vec generated with bert and with probability cumulative at length .99\n",
    "Bert_All99 = np.concatenate([input_ids1_cumF99,\n",
    "                             input_ids2_cumF99,\n",
    "                             input_ids3_cumF99,\n",
    "                             input_ids4_cumF99,\n",
    "                             input_ids5_cumF99,\n",
    "                             input_ids6_cumF99,\n",
    "                             labels], axis=1)\n",
    "print(Bert_All99.shape)\n",
    "pd.DataFrame(Bert_All99).to_csv(\"E:/CNSI_project/demo_and_data_5.0/Processed_data/MIMIC/aim2_merged_VecData/Bert_All99.csv\",index=False)\n",
    "Bert_All99"
   ]
  },
  {
   "cell_type": "code",
   "execution_count": 115,
   "id": "2f1bb7e8",
   "metadata": {},
   "outputs": [
    {
     "name": "stdout",
     "output_type": "stream",
     "text": [
      "(5794, 1921)\n"
     ]
    },
    {
     "data": {
      "text/plain": [
       "array([[ 1260,  7889,  7412, ...,     0,     0,     0],\n",
       "       [ 4036,   117, 21718, ...,     0,     0,     0],\n",
       "       [16320,   117,  5173, ...,     0,     0,     0],\n",
       "       ...,\n",
       "       [10880,   117, 11477, ...,     0,     0,     0],\n",
       "       [20752,   119,     0, ...,     0,     0,     0],\n",
       "       [  170,  8178,  1126, ...,     0,     0,     1]], dtype=int64)"
      ]
     },
     "execution_count": 115,
     "metadata": {},
     "output_type": "execute_result"
    }
   ],
   "source": [
    "Bert_All95 = np.concatenate([input_ids1_cumF95,\n",
    "                             input_ids2_cumF95,\n",
    "                             input_ids3_cumF95,\n",
    "                             input_ids4_cumF95,\n",
    "                             input_ids5_cumF95,\n",
    "                             input_ids6_cumF95,\n",
    "                             labels], axis=1)\n",
    "print(Bert_All95.shape)\n",
    "pd.DataFrame(Bert_All95).to_csv(\"E:/CNSI_project/demo_and_data_5.0/Processed_data/MIMIC/aim2_merged_VecData/Bert_All95.csv\",index=False)\n",
    "Bert_All95"
   ]
  },
  {
   "cell_type": "code",
   "execution_count": 116,
   "id": "d510b926",
   "metadata": {},
   "outputs": [
    {
     "name": "stdout",
     "output_type": "stream",
     "text": [
      "(5794, 1469)\n"
     ]
    },
    {
     "data": {
      "text/plain": [
       "array([[ 1260,  7889,  7412, ...,     0,     0,     0],\n",
       "       [ 4036,   117, 21718, ...,     0,     0,     0],\n",
       "       [16320,   117,  5173, ...,     0,     0,     0],\n",
       "       ...,\n",
       "       [10880,   117, 11477, ...,     0,     0,     0],\n",
       "       [20752,   119,     0, ...,     0,     0,     0],\n",
       "       [  170,  8178,  1126, ...,     0,     0,     1]], dtype=int64)"
      ]
     },
     "execution_count": 116,
     "metadata": {},
     "output_type": "execute_result"
    }
   ],
   "source": [
    "Bert_All90 = np.concatenate([input_ids1_cumF90,\n",
    "                             input_ids2_cumF90,\n",
    "                             input_ids3_cumF90,\n",
    "                             input_ids4_cumF90,\n",
    "                             input_ids5_cumF90,\n",
    "                             input_ids6_cumF90,\n",
    "                             labels], axis=1)\n",
    "print(Bert_All90.shape)\n",
    "pd.DataFrame(Bert_All90).to_csv(\"E:/CNSI_project/demo_and_data_5.0/Processed_data/MIMIC/aim2_merged_VecData/Bert_All90.csv\",index=False)\n",
    "Bert_All90"
   ]
  },
  {
   "cell_type": "code",
   "execution_count": 117,
   "id": "5c803ee6",
   "metadata": {},
   "outputs": [
    {
     "name": "stdout",
     "output_type": "stream",
     "text": [
      "(5794, 3814)\n"
     ]
    },
    {
     "data": {
      "text/plain": [
       "array([[462,   1,   7, ...,   0,   0,   0],\n",
       "       [ 12,   1,  54, ...,   0,   0,   0],\n",
       "       [  2,   1,  56, ...,   0,   0,   0],\n",
       "       ...,\n",
       "       [ 11,   1,   7, ...,   0,   0,   0],\n",
       "       [ 14,  13,   0, ...,   0,   0,   0],\n",
       "       [701, 146,  98, ...,   0,   0,   1]], dtype=int64)"
      ]
     },
     "execution_count": 117,
     "metadata": {},
     "output_type": "execute_result"
    }
   ],
   "source": [
    "# vec generated with keras with probability cumulative in .99 lengths\n",
    "Keras_All99 = np.concatenate([input_vec1_cumF99,\n",
    "                             input_vec2_cumF99,\n",
    "                             input_vec3_cumF99,\n",
    "                             input_vec4_cumF99,\n",
    "                             input_vec5_cumF99,\n",
    "                             input_vec6_cumF99,\n",
    "                             labels], axis=1)\n",
    "print(Keras_All99.shape)\n",
    "pd.DataFrame(Keras_All99).to_csv(\"E:/CNSI_project/demo_and_data_5.0/Processed_data/MIMIC/aim2_merged_VecData/Keras_All99.csv\",index=False)\n",
    "Keras_All99"
   ]
  },
  {
   "cell_type": "code",
   "execution_count": 118,
   "id": "55043dfd",
   "metadata": {},
   "outputs": [
    {
     "name": "stdout",
     "output_type": "stream",
     "text": [
      "(5794, 1435)\n"
     ]
    },
    {
     "data": {
      "text/plain": [
       "array([[462,   1,   7, ...,   0,   0,   0],\n",
       "       [ 12,   1,  54, ...,   0,   0,   0],\n",
       "       [  2,   1,  56, ...,   0,   0,   0],\n",
       "       ...,\n",
       "       [ 11,   1,   7, ...,   0,   0,   0],\n",
       "       [ 14,  13,   0, ...,   0,   0,   0],\n",
       "       [701, 146,  98, ...,   0,   0,   1]], dtype=int64)"
      ]
     },
     "execution_count": 118,
     "metadata": {},
     "output_type": "execute_result"
    }
   ],
   "source": [
    "Keras_All95 = np.concatenate([input_vec1_cumF95,\n",
    "                             input_vec2_cumF95,\n",
    "                             input_vec3_cumF95,\n",
    "                             input_vec4_cumF95,\n",
    "                             input_vec5_cumF95,\n",
    "                             input_vec6_cumF95,\n",
    "                             labels], axis=1)\n",
    "print(Keras_All95.shape)\n",
    "pd.DataFrame(Keras_All95).to_csv(\"E:/CNSI_project/demo_and_data_5.0/Processed_data/MIMIC/aim2_merged_VecData/Keras_All95.csv\",index=False)\n",
    "Keras_All95"
   ]
  },
  {
   "cell_type": "code",
   "execution_count": 119,
   "id": "758f703a",
   "metadata": {},
   "outputs": [
    {
     "name": "stdout",
     "output_type": "stream",
     "text": [
      "(5794, 1105)\n"
     ]
    },
    {
     "data": {
      "text/plain": [
       "array([[462,   1,   7, ...,   0,   0,   0],\n",
       "       [ 12,   1,  54, ...,   0,   0,   0],\n",
       "       [  2,   1,  56, ...,   0,   0,   0],\n",
       "       ...,\n",
       "       [ 11,   1,   7, ...,   0,   0,   0],\n",
       "       [ 14,  13,   0, ...,   0,   0,   0],\n",
       "       [701, 146,  98, ...,   0,   0,   1]], dtype=int64)"
      ]
     },
     "execution_count": 119,
     "metadata": {},
     "output_type": "execute_result"
    }
   ],
   "source": [
    "Keras_All90 = np.concatenate([input_vec1_cumF90,\n",
    "                             input_vec2_cumF90,\n",
    "                             input_vec3_cumF90,\n",
    "                             input_vec4_cumF90,\n",
    "                             input_vec5_cumF90,\n",
    "                             input_vec6_cumF90,\n",
    "                             labels], axis=1)\n",
    "print(Keras_All90.shape)\n",
    "pd.DataFrame(Keras_All90).to_csv(\"E:/CNSI_project/demo_and_data_5.0/Processed_data/MIMIC/aim2_merged_VecData/Keras_All90.csv\",index=False)\n",
    "Keras_All90"
   ]
  },
  {
   "cell_type": "markdown",
   "id": "6bfcf4fe",
   "metadata": {},
   "source": [
    "# Merge ChiefComplaint with each in 95"
   ]
  },
  {
   "cell_type": "markdown",
   "id": "a6ba2356",
   "metadata": {},
   "source": [
    "## 1. with icd_title"
   ]
  },
  {
   "cell_type": "code",
   "execution_count": 120,
   "id": "293ea914",
   "metadata": {},
   "outputs": [
    {
     "name": "stdout",
     "output_type": "stream",
     "text": [
      "(5794, 400)\n"
     ]
    },
    {
     "data": {
      "text/plain": [
       "array([[ 1260,  7889,  7412, ...,     0,     0,     0],\n",
       "       [ 4036,   117, 21718, ...,     0,     0,     0],\n",
       "       [16320,   117,  5173, ...,     0,     0,     0],\n",
       "       ...,\n",
       "       [10880,   117, 11477, ...,     0,     0,     0],\n",
       "       [20752,   119,     0, ...,     0,     0,     0],\n",
       "       [  170,  8178,  1126, ...,     0,     0,     1]], dtype=int64)"
      ]
     },
     "execution_count": 120,
     "metadata": {},
     "output_type": "execute_result"
    }
   ],
   "source": [
    "# bert\n",
    "Bert_ChiefComplaint_with_ICD_95 = np.concatenate([input_ids1_cumF95,\n",
    "                             input_ids2_cumF95,\n",
    "                             labels], axis=1)\n",
    "print(Bert_ChiefComplaint_with_ICD_95.shape)\n",
    "pd.DataFrame(Bert_ChiefComplaint_with_ICD_95).to_csv(\"E:/CNSI_project/demo_and_data_5.0/Processed_data/MIMIC/aim2_merged_VecData/Bert_ChiefComplaint_with_ICD_95.csv\",index=False)\n",
    "Bert_ChiefComplaint_with_ICD_95"
   ]
  },
  {
   "cell_type": "code",
   "execution_count": 121,
   "id": "41f0570f",
   "metadata": {},
   "outputs": [
    {
     "name": "stdout",
     "output_type": "stream",
     "text": [
      "(5794, 249)\n"
     ]
    },
    {
     "data": {
      "text/plain": [
       "array([[462,   1,   7, ...,   0,   0,   0],\n",
       "       [ 12,   1,  54, ...,   0,   0,   0],\n",
       "       [  2,   1,  56, ...,   0,   0,   0],\n",
       "       ...,\n",
       "       [ 11,   1,   7, ...,   0,   0,   0],\n",
       "       [ 14,  13,   0, ...,   0,   0,   0],\n",
       "       [701, 146,  98, ...,   0,   0,   1]], dtype=int64)"
      ]
     },
     "execution_count": 121,
     "metadata": {},
     "output_type": "execute_result"
    }
   ],
   "source": [
    "# keras\n",
    "Keras_ChiefComplaint_with_ICD_95 = np.concatenate([input_vec1_cumF95,\n",
    "                             input_vec2_cumF95,\n",
    "                             labels], axis=1)\n",
    "print(Keras_ChiefComplaint_with_ICD_95.shape)\n",
    "pd.DataFrame(Keras_ChiefComplaint_with_ICD_95).to_csv(\"E:/CNSI_project/demo_and_data_5.0/Processed_data/MIMIC/aim2_merged_VecData/Keras_ChiefComplaint_with_ICD_95.csv\",index=False)\n",
    "Keras_ChiefComplaint_with_ICD_95"
   ]
  },
  {
   "cell_type": "markdown",
   "id": "d7e823f3",
   "metadata": {},
   "source": [
    "## 2. with Allergies"
   ]
  },
  {
   "cell_type": "code",
   "execution_count": 122,
   "id": "05e5fdd1",
   "metadata": {},
   "outputs": [
    {
     "name": "stdout",
     "output_type": "stream",
     "text": [
      "(5794, 47)\n"
     ]
    },
    {
     "data": {
      "text/plain": [
       "array([[ 1260,  7889,  7412, ...,     0,     0,     0],\n",
       "       [ 4036,   117, 21718, ...,     0,     0,     0],\n",
       "       [16320,   117,  5173, ...,     0,     0,     0],\n",
       "       ...,\n",
       "       [10880,   117, 11477, ...,     0,     0,     0],\n",
       "       [20752,   119,     0, ...,     0,     0,     0],\n",
       "       [  170,  8178,  1126, ...,     0,     0,     1]], dtype=int64)"
      ]
     },
     "execution_count": 122,
     "metadata": {},
     "output_type": "execute_result"
    }
   ],
   "source": [
    "# bert\n",
    "Bert_ChiefComplaint_with_Allergies_95 = np.concatenate([input_ids1_cumF95,\n",
    "                             input_ids3_cumF95,\n",
    "                             labels], axis=1)\n",
    "print(Bert_ChiefComplaint_with_Allergies_95.shape)\n",
    "pd.DataFrame(Bert_ChiefComplaint_with_Allergies_95).to_csv(\"E:/CNSI_project/demo_and_data_5.0/Processed_data/MIMIC/aim2_merged_VecData/Bert_ChiefComplaint_with_Allergies_95.csv\",index=False)\n",
    "Bert_ChiefComplaint_with_Allergies_95"
   ]
  },
  {
   "cell_type": "code",
   "execution_count": 123,
   "id": "b641e07f",
   "metadata": {},
   "outputs": [
    {
     "name": "stdout",
     "output_type": "stream",
     "text": [
      "(5794, 27)\n"
     ]
    },
    {
     "data": {
      "text/plain": [
       "array([[462,   1,   7, ...,   0,   0,   0],\n",
       "       [ 12,   1,  54, ...,   0,   0,   0],\n",
       "       [  2,   1,  56, ...,   0,   0,   0],\n",
       "       ...,\n",
       "       [ 11,   1,   7, ...,   0,   0,   0],\n",
       "       [ 14,  13,   0, ...,   0,   0,   0],\n",
       "       [701, 146,  98, ...,   0,   0,   1]], dtype=int64)"
      ]
     },
     "execution_count": 123,
     "metadata": {},
     "output_type": "execute_result"
    }
   ],
   "source": [
    "# keras\n",
    "Keras_ChiefComplaint_with_Allergies_95 = np.concatenate([input_vec1_cumF95,\n",
    "                             input_vec3_cumF95,\n",
    "                             labels], axis=1)\n",
    "print(Keras_ChiefComplaint_with_Allergies_95.shape)\n",
    "pd.DataFrame(Keras_ChiefComplaint_with_Allergies_95).to_csv(\"E:/CNSI_project/demo_and_data_5.0/Processed_data/MIMIC/aim2_merged_VecData/Keras_ChiefComplaint_with_Allergies_95.csv\",index=False)\n",
    "Keras_ChiefComplaint_with_Allergies_95"
   ]
  },
  {
   "cell_type": "markdown",
   "id": "cbd2ae15",
   "metadata": {},
   "source": [
    "## 3. with History of Present Illness"
   ]
  },
  {
   "cell_type": "code",
   "execution_count": 124,
   "id": "80347245",
   "metadata": {},
   "outputs": [
    {
     "name": "stdout",
     "output_type": "stream",
     "text": [
      "(5794, 908)\n"
     ]
    },
    {
     "data": {
      "text/plain": [
       "array([[ 1260,  7889,  7412, ...,     0,     0,     0],\n",
       "       [ 4036,   117, 21718, ...,     0,     0,     0],\n",
       "       [16320,   117,  5173, ...,     0,     0,     0],\n",
       "       ...,\n",
       "       [10880,   117, 11477, ...,  6857,  1182,     0],\n",
       "       [20752,   119,     0, ...,     0,     0,     0],\n",
       "       [  170,  8178,  1126, ...,     0,     0,     1]], dtype=int64)"
      ]
     },
     "execution_count": 124,
     "metadata": {},
     "output_type": "execute_result"
    }
   ],
   "source": [
    "# bert\n",
    "Bert_ChiefComplaint_with_IllnessHistory_95 = np.concatenate([input_ids1_cumF95,\n",
    "                             input_ids4_cumF95,\n",
    "                             labels], axis=1)\n",
    "print(Bert_ChiefComplaint_with_IllnessHistory_95.shape)\n",
    "pd.DataFrame(Bert_ChiefComplaint_with_IllnessHistory_95).to_csv(\"E:/CNSI_project/demo_and_data_5.0/Processed_data/MIMIC/aim2_merged_VecData/Bert_ChiefComplaint_with_IllnessHistory_95.csv\",index=False)\n",
    "Bert_ChiefComplaint_with_IllnessHistory_95"
   ]
  },
  {
   "cell_type": "code",
   "execution_count": 125,
   "id": "8a8fc3c4",
   "metadata": {},
   "outputs": [
    {
     "name": "stdout",
     "output_type": "stream",
     "text": [
      "(5794, 742)\n"
     ]
    },
    {
     "data": {
      "text/plain": [
       "array([[462,   1,   7, ...,   0,   0,   0],\n",
       "       [ 12,   1,  54, ...,   0,   0,   0],\n",
       "       [  2,   1,  56, ...,   0,   0,   0],\n",
       "       ...,\n",
       "       [ 11,   1,   7, ...,  30, 555,   0],\n",
       "       [ 14,  13,   0, ...,   0,   0,   0],\n",
       "       [701, 146,  98, ...,   0,   0,   1]], dtype=int64)"
      ]
     },
     "execution_count": 125,
     "metadata": {},
     "output_type": "execute_result"
    }
   ],
   "source": [
    "# keras\n",
    "Keras_ChiefComplaint_with_IllnessHistory_95 = np.concatenate([input_vec1_cumF95,\n",
    "                             input_vec4_cumF95,\n",
    "                             labels], axis=1)\n",
    "print(Keras_ChiefComplaint_with_IllnessHistory_95.shape)\n",
    "pd.DataFrame(Keras_ChiefComplaint_with_IllnessHistory_95).to_csv(\"E:/CNSI_project/demo_and_data_5.0/Processed_data/MIMIC/aim2_merged_VecData/Keras_ChiefComplaint_with_IllnessHistory_95.csv\",index=False)\n",
    "Keras_ChiefComplaint_with_IllnessHistory_95"
   ]
  },
  {
   "cell_type": "markdown",
   "id": "5db11faf",
   "metadata": {},
   "source": [
    "## 4. with Past Medical History"
   ]
  },
  {
   "cell_type": "code",
   "execution_count": 126,
   "id": "0ec916c6",
   "metadata": {},
   "outputs": [
    {
     "name": "stdout",
     "output_type": "stream",
     "text": [
      "(5794, 554)\n"
     ]
    },
    {
     "data": {
      "text/plain": [
       "array([[ 1260,  7889,  7412, ...,     0,     0,     0],\n",
       "       [ 4036,   117, 21718, ...,     0,     0,     0],\n",
       "       [16320,   117,  5173, ...,     0,     0,     0],\n",
       "       ...,\n",
       "       [10880,   117, 11477, ...,     0,     0,     0],\n",
       "       [20752,   119,     0, ...,     0,     0,     0],\n",
       "       [  170,  8178,  1126, ...,     0,     0,     1]], dtype=int64)"
      ]
     },
     "execution_count": 126,
     "metadata": {},
     "output_type": "execute_result"
    }
   ],
   "source": [
    "# bert\n",
    "Bert_ChiefComplaint_with_MedicalHistory_95 = np.concatenate([input_ids1_cumF95,\n",
    "                             input_ids5_cumF95,\n",
    "                             labels], axis=1)\n",
    "print(Bert_ChiefComplaint_with_MedicalHistory_95.shape)\n",
    "pd.DataFrame(Bert_ChiefComplaint_with_MedicalHistory_95).to_csv(\"E:/CNSI_project/demo_and_data_5.0/Processed_data/MIMIC/aim2_merged_VecData/Bert_ChiefComplaint_with_MedicalHistory_95.csv\",index=False)\n",
    "Bert_ChiefComplaint_with_MedicalHistory_95"
   ]
  },
  {
   "cell_type": "code",
   "execution_count": 127,
   "id": "2a32b6ab",
   "metadata": {},
   "outputs": [
    {
     "name": "stdout",
     "output_type": "stream",
     "text": [
      "(5794, 398)\n"
     ]
    },
    {
     "data": {
      "text/plain": [
       "array([[462,   1,   7, ...,   0,   0,   0],\n",
       "       [ 12,   1,  54, ...,   0,   0,   0],\n",
       "       [  2,   1,  56, ...,   0,   0,   0],\n",
       "       ...,\n",
       "       [ 11,   1,   7, ...,   0,   0,   0],\n",
       "       [ 14,  13,   0, ...,   0,   0,   0],\n",
       "       [701, 146,  98, ...,   0,   0,   1]], dtype=int64)"
      ]
     },
     "execution_count": 127,
     "metadata": {},
     "output_type": "execute_result"
    }
   ],
   "source": [
    "# keras\n",
    "Keras_ChiefComplaint_with_MedicalHistory_95 = np.concatenate([input_vec1_cumF95,\n",
    "                             input_vec5_cumF95,\n",
    "                             labels], axis=1)\n",
    "print(Keras_ChiefComplaint_with_MedicalHistory_95.shape)\n",
    "pd.DataFrame(Keras_ChiefComplaint_with_MedicalHistory_95).to_csv(\"E:/CNSI_project/demo_and_data_5.0/Processed_data/MIMIC/aim2_merged_VecData/Keras_ChiefComplaint_with_MedicalHistory_95.csv\",index=False)\n",
    "Keras_ChiefComplaint_with_MedicalHistory_95"
   ]
  },
  {
   "cell_type": "markdown",
   "id": "20c1fb89",
   "metadata": {},
   "source": [
    "## 5. with Family History"
   ]
  },
  {
   "cell_type": "code",
   "execution_count": 128,
   "id": "05345b1f",
   "metadata": {},
   "outputs": [
    {
     "name": "stdout",
     "output_type": "stream",
     "text": [
      "(5794, 96)\n"
     ]
    },
    {
     "data": {
      "text/plain": [
       "array([[ 1260,  7889,  7412, ...,     0,     0,     0],\n",
       "       [ 4036,   117, 21718, ...,     0,     0,     0],\n",
       "       [16320,   117,  5173, ...,     0,     0,     0],\n",
       "       ...,\n",
       "       [10880,   117, 11477, ...,     0,     0,     0],\n",
       "       [20752,   119,     0, ...,     0,     0,     0],\n",
       "       [  170,  8178,  1126, ...,     0,     0,     1]], dtype=int64)"
      ]
     },
     "execution_count": 128,
     "metadata": {},
     "output_type": "execute_result"
    }
   ],
   "source": [
    "# bert\n",
    "Bert_ChiefComplaint_with_FamilyHistory_95 = np.concatenate([input_ids1_cumF95,\n",
    "                             input_ids6_cumF95,\n",
    "                             labels], axis=1)\n",
    "print(Bert_ChiefComplaint_with_FamilyHistory_95.shape)\n",
    "pd.DataFrame(Bert_ChiefComplaint_with_FamilyHistory_95).to_csv(\"E:/CNSI_project/demo_and_data_5.0/Processed_data/MIMIC/aim2_merged_VecData/Bert_ChiefComplaint_with_FamilyHistory_95.csv\",index=False)\n",
    "Bert_ChiefComplaint_with_FamilyHistory_95"
   ]
  },
  {
   "cell_type": "code",
   "execution_count": 129,
   "id": "cf33eb19",
   "metadata": {},
   "outputs": [
    {
     "name": "stdout",
     "output_type": "stream",
     "text": [
      "(5794, 79)\n"
     ]
    },
    {
     "data": {
      "text/plain": [
       "array([[462,   1,   7, ...,   0,   0,   0],\n",
       "       [ 12,   1,  54, ...,   0,   0,   0],\n",
       "       [  2,   1,  56, ...,   0,   0,   0],\n",
       "       ...,\n",
       "       [ 11,   1,   7, ...,   0,   0,   0],\n",
       "       [ 14,  13,   0, ...,   0,   0,   0],\n",
       "       [701, 146,  98, ...,   0,   0,   1]], dtype=int64)"
      ]
     },
     "execution_count": 129,
     "metadata": {},
     "output_type": "execute_result"
    }
   ],
   "source": [
    "# keras\n",
    "Keras_ChiefComplaint_with_FamilyHistory_95 = np.concatenate([input_vec1_cumF95,\n",
    "                             input_vec6_cumF95,\n",
    "                             labels], axis=1)\n",
    "print(Keras_ChiefComplaint_with_FamilyHistory_95.shape)\n",
    "pd.DataFrame(Keras_ChiefComplaint_with_FamilyHistory_95).to_csv(\"E:/CNSI_project/demo_and_data_5.0/Processed_data/MIMIC/aim2_merged_VecData/Keras_ChiefComplaint_with_FamilyHistory_95.csv\",index=False)\n",
    "Keras_ChiefComplaint_with_FamilyHistory_95"
   ]
  },
  {
   "cell_type": "code",
   "execution_count": null,
   "id": "b6ac6cc4",
   "metadata": {},
   "outputs": [],
   "source": []
  },
  {
   "cell_type": "code",
   "execution_count": null,
   "id": "31dd75e4",
   "metadata": {},
   "outputs": [],
   "source": []
  }
 ],
 "metadata": {
  "kernelspec": {
   "display_name": "Python 3 (ipykernel)",
   "language": "python",
   "name": "python3"
  },
  "language_info": {
   "codemirror_mode": {
    "name": "ipython",
    "version": 3
   },
   "file_extension": ".py",
   "mimetype": "text/x-python",
   "name": "python",
   "nbconvert_exporter": "python",
   "pygments_lexer": "ipython3",
   "version": "3.9.12"
  }
 },
 "nbformat": 4,
 "nbformat_minor": 5
}
